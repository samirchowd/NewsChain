{
 "cells": [
  {
   "cell_type": "code",
   "execution_count": 41,
   "id": "e1553c02",
   "metadata": {},
   "outputs": [
    {
     "name": "stdout",
     "output_type": "stream",
     "text": [
      "Requirement already satisfied: numpy in c:\\users\\evan_\\appdata\\local\\programs\\python\\python39\\lib\\site-packages (1.20.2)Note: you may need to restart the kernel to use updated packages.\n",
      "Requirement already satisfied: scipy in c:\\users\\evan_\\appdata\\local\\programs\\python\\python39\\lib\\site-packages (1.6.2)\n",
      "Collecting matplotlib\n",
      "  Downloading matplotlib-3.4.1-cp39-cp39-win_amd64.whl (7.1 MB)\n",
      "Collecting cycler>=0.10\n",
      "  Downloading cycler-0.10.0-py2.py3-none-any.whl (6.5 kB)\n",
      "Requirement already satisfied: python-dateutil>=2.7 in c:\\users\\evan_\\appdata\\local\\programs\\python\\python39\\lib\\site-packages (from matplotlib) (2.8.1)\n",
      "Collecting kiwisolver>=1.0.1\n",
      "  Downloading kiwisolver-1.3.1-cp39-cp39-win_amd64.whl (51 kB)\n",
      "Requirement already satisfied: pyparsing>=2.2.1 in c:\\users\\evan_\\appdata\\local\\programs\\python\\python39\\lib\\site-packages (from matplotlib) (2.4.7)\n",
      "Collecting pillow>=6.2.0\n",
      "  Downloading Pillow-8.2.0-cp39-cp39-win_amd64.whl (2.2 MB)\n",
      "Requirement already satisfied: six in c:\\users\\evan_\\appdata\\local\\programs\\python\\python39\\lib\\site-packages (from cycler>=0.10->matplotlib) (1.15.0)\n",
      "Installing collected packages: pillow, kiwisolver, cycler, matplotlib\n",
      "Successfully installed cycler-0.10.0 kiwisolver-1.3.1 matplotlib-3.4.1 pillow-8.2.0\n",
      "\n"
     ]
    },
    {
     "name": "stderr",
     "output_type": "stream",
     "text": [
      "WARNING: You are using pip version 21.0.1; however, version 21.1 is available.\n",
      "You should consider upgrading via the 'c:\\users\\evan_\\appdata\\local\\programs\\python\\python39\\python.exe -m pip install --upgrade pip' command.\n"
     ]
    }
   ],
   "source": [
    "pip install numpy scipy matplotlib"
   ]
  },
  {
   "cell_type": "code",
   "execution_count": 58,
   "id": "e8d34d1e",
   "metadata": {},
   "outputs": [],
   "source": [
    "import numpy as np\n",
    "import matplotlib as mpl\n",
    "import matplotlib.pyplot as plt\n",
    "from scipy import spatial"
   ]
  },
  {
   "cell_type": "code",
   "execution_count": 59,
   "id": "8037c72a",
   "metadata": {},
   "outputs": [],
   "source": [
    "#tuple = (title, abstract, author, source, date, URL, query)\n",
    "doc1 = ['Three Men Are Accused in Scheme to Sell Covid-19 Vaccines', 'Prosecutors said the men created a fake duplicate of the Moderna website to fraudulently sell doses of the vaccine, which they never had.', 'John', 'NY Times', 'april 23', 'sample_url', 'moderna']\n",
    "doc2 = ['title2', 'Four Men Are Talking About Covid-19 Vaccines', 'Jack', 'Washington Post', 'march 15', 'sample_url2', 'pfizer']"
   ]
  },
  {
   "cell_type": "code",
   "execution_count": 75,
   "id": "044485fd",
   "metadata": {},
   "outputs": [],
   "source": [
    "def vectorize(dx): # Modify this function\n",
    "    list_x = dx.split()\n",
    "    vx = np.array(list_x)\n",
    "    \n",
    "    return vx"
   ]
  },
  {
   "cell_type": "code",
   "execution_count": 81,
   "id": "8a741a30",
   "metadata": {},
   "outputs": [],
   "source": [
    "def docSim(abstract_i, abstract_j):\n",
    "    \n",
    "    vi = vectorize(abstract_i)\n",
    "    vj = vectorize(abstract_j)\n",
    "    cosine_similarity = 1 - spatial.distance.cosine(vi, vj)\n",
    "    return cosine_similarity\n"
   ]
  },
  {
   "cell_type": "code",
   "execution_count": 82,
   "id": "70ef8e01",
   "metadata": {},
   "outputs": [],
   "source": [
    "def knowledgeSim(abstract_i, abstract_j):\n",
    "    \n",
    "    vi = vectorize(abstract_i)\n",
    "    vj = vectorize(abstract_j)\n",
    "    jaccard_similarity = spatial.distance.jaccard(abstract_i, abstract_j)\n",
    "    return jaccard_distance\n"
   ]
  },
  {
   "cell_type": "code",
   "execution_count": 83,
   "id": "8089cc28",
   "metadata": {},
   "outputs": [],
   "source": [
    "def Compute_EOS(di, dj, alpha): # di, dj are 7-tuples, whose 2nd element is abstract \n",
    "    \n",
    "    doc_sim = docSim(di[1], dj[1])\n",
    "    knowledge_sim = knowledgeSim(di[1], dj[1])\n",
    "    eos = alpha*doc_sim + (1 - alpha)*knowledge_sim\n",
    "    return eos\n",
    "    "
   ]
  },
  {
   "cell_type": "code",
   "execution_count": 84,
   "id": "37c0faef",
   "metadata": {},
   "outputs": [
    {
     "name": "stdout",
     "output_type": "stream",
     "text": [
      "0.5276561879022921\n"
     ]
    }
   ],
   "source": [
    "vec1 = [0, 1, 7]\n",
    "vec2 = [15, 6, 9]\n",
    "print(docSim(vec1, vec2))\n",
    "#print(Compute_EOS(doc1, doc2, 0.3))"
   ]
  },
  {
   "cell_type": "code",
   "execution_count": null,
   "id": "b5ed6c2b",
   "metadata": {},
   "outputs": [],
   "source": []
  },
  {
   "cell_type": "code",
   "execution_count": null,
   "id": "4525fb29",
   "metadata": {},
   "outputs": [],
   "source": []
  }
 ],
 "metadata": {
  "kernelspec": {
   "display_name": "Python 3",
   "language": "python",
   "name": "python3"
  },
  "language_info": {
   "codemirror_mode": {
    "name": "ipython",
    "version": 3
   },
   "file_extension": ".py",
   "mimetype": "text/x-python",
   "name": "python",
   "nbconvert_exporter": "python",
   "pygments_lexer": "ipython3",
   "version": "3.9.1"
  }
 },
 "nbformat": 4,
 "nbformat_minor": 5
}
