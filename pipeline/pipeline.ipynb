{
 "cells": [
  {
   "cell_type": "code",
   "execution_count": 1,
   "id": "painful-sleeping",
   "metadata": {},
   "outputs": [],
   "source": [
    "# import statements\n",
    "import utils\n",
    "import numpy as np\n",
    "import matplotlib.pyplot as plt\n",
    "from sentence_transformers import SentenceTransformer\n",
    "from sklearn.decomposition import PCA\n",
    "from sklearn.cluster import KMeans"
   ]
  },
  {
   "cell_type": "code",
   "execution_count": 2,
   "id": "convinced-logic",
   "metadata": {},
   "outputs": [],
   "source": [
    "# Loading data\n",
    "\n",
    "# Fake data\n",
    "articles = np.asarray([\n",
    "    [\"Donald Trump buys a dog\", \"Donald Trump recently was found buying a dog\"],\n",
    "    [\"President Trump gets a corgie\", \"The White House welcomes a new furry friend, and its name is Evan!\"],\n",
    "    [\"U.S. Presidential Paws\", \"You won't believe the new dog that Donald and the fam just got!\"],\n",
    "    [\"Biden sells his old car\", \"President Biden just announced that he is selling is '96 Civic\"],\n",
    "    [\"President Biden to sell car\", \"Biden announced via Twitter that he will indeed be selling his car\"],\n",
    "    [\"Biden getting that car cash\", \"Biden is about to cash out once he sells that junker civic!\"]\n",
    "])"
   ]
  },
  {
   "cell_type": "code",
   "execution_count": 3,
   "id": "inside-duration",
   "metadata": {},
   "outputs": [
    {
     "name": "stdout",
     "output_type": "stream",
     "text": [
      "Time for computting embeddings:1.1660959720611572\n"
     ]
    }
   ],
   "source": [
    "# Vectorizing \n",
    "# Combining headlines and bodies\n",
    "a = [x[0] + ': ' + x[1] for x in articles]\n",
    "# Generating model \n",
    "roberta = SentenceTransformer('stsb-roberta-base')\n",
    "v = utils.encode(a, roberta)\n",
    "\n",
    "# import utils\n",
    "# import numpy as np\n",
    "# sents = np.asarray(utils.toframe(utils.files, 'abstract'))\n",
    "# from sentence_transformers import SentenceTransformer\n",
    "# roberta = SentenceTransformer('stsb-roberta-base')\n",
    "# v = utils.encode(sents[0:1000], roberta)"
   ]
  },
  {
   "cell_type": "code",
   "execution_count": 16,
   "id": "living-comparative",
   "metadata": {},
   "outputs": [
    {
     "data": {
      "text/plain": [
       "0.36886963"
      ]
     },
     "execution_count": 16,
     "metadata": {},
     "output_type": "execute_result"
    }
   ],
   "source": [
    "utils.doc_sim(v[0], v[5])"
   ]
  },
  {
   "cell_type": "code",
   "execution_count": 4,
   "id": "superb-spiritual",
   "metadata": {},
   "outputs": [
    {
     "name": "stdout",
     "output_type": "stream",
     "text": [
      "Percent variance explained: 1.00\n"
     ]
    }
   ],
   "source": [
    "# Dimensionality reduction\n",
    "pca = PCA(n_components = 5)\n",
    "components = pca.fit_transform(v)\n",
    "print('Percent variance explained: {:.2f}'.format(sum(pca.explained_variance_ratio_)))"
   ]
  },
  {
   "cell_type": "code",
   "execution_count": 5,
   "id": "union-consciousness",
   "metadata": {},
   "outputs": [
    {
     "data": {
      "text/plain": [
       "<matplotlib.collections.PathCollection at 0x7fefca22e130>"
      ]
     },
     "execution_count": 5,
     "metadata": {},
     "output_type": "execute_result"
    },
    {
     "data": {
      "image/png": "[encoded data removed]",
      "text/plain": [
       "<Figure size 432x288 with 1 Axes>"
      ]
     },
     "metadata": {
      "needs_background": "light"
     },
     "output_type": "display_data"
    }
   ],
   "source": [
    "# Visualizing PCA\n",
    "plt.scatter(components[:,0], components[:,1])"
   ]
  },
  {
   "cell_type": "code",
   "execution_count": 6,
   "id": "recorded-vegetation",
   "metadata": {},
   "outputs": [],
   "source": [
    "# Clustering \n",
    "K = 2\n",
    "clusters = KMeans(n_clusters=K, random_state=0).fit(components)"
   ]
  },
  {
   "cell_type": "code",
   "execution_count": 7,
   "id": "stylish-canal",
   "metadata": {},
   "outputs": [
    {
     "data": {
      "image/png": "[encoded data removed]",
      "text/plain": [
       "<Figure size 432x288 with 1 Axes>"
      ]
     },
     "metadata": {
      "needs_background": "light"
     },
     "output_type": "display_data"
    }
   ],
   "source": [
    "# Visualizing Clusters\n",
    "for i in range(K):\n",
    "    labels = clusters.labels_ == i\n",
    "    plt.scatter(components[labels,0], components[labels,1])"
   ]
  },
  {
   "cell_type": "code",
   "execution_count": 28,
   "id": "isolated-vacation",
   "metadata": {},
   "outputs": [
    {
     "name": "stdout",
     "output_type": "stream",
     "text": [
      "Cluster #: 0\n",
      "0 ['Biden sells his old car'\n",
      " \"President Biden just announced that he is selling is '96 Civic\"]\n",
      "1 ['President Biden to sell car'\n",
      " 'Biden announced via Twitter that he will indeed be selling his car']\n",
      "2 ['Biden getting that car cash'\n",
      " 'Biden is about to cash out once he sells that junker civic!']\n",
      "Cluster #: 1\n",
      "0 ['Donald Trump buys a dog' 'Donald Trump recently was found buying a dog']\n",
      "1 ['President Trump gets a corgie'\n",
      " 'The White House welcomes a new furry friend, and its name is Evan!']\n",
      "2 ['U.S. Presidential Paws'\n",
      " \"You won't believe the new dog that Donald and the fam just got!\"]\n"
     ]
    }
   ],
   "source": [
    "# Printing out different clusters\n",
    "for i in range(K):\n",
    "    labels = clusters.labels_ == i\n",
    "    print('Cluster #:', i)\n",
    "    for j, article in enumerate(articles[labels]):\n",
    "        print(j, article)"
   ]
  },
  {
   "cell_type": "code",
   "execution_count": 29,
   "id": "velvet-seeking",
   "metadata": {},
   "outputs": [],
   "source": [
    "# Creating the graph\n",
    "import networkx as nx\n",
    "\n",
    "G = nx.Graph()"
   ]
  },
  {
   "cell_type": "code",
   "execution_count": null,
   "id": "differential-finding",
   "metadata": {},
   "outputs": [],
   "source": [
    "G.add_nodes_from(['dog','cat'])\n",
    "G.add_edge('dog','cat')\n",
    "G.add_edge(1,2)\n",
    "G.clear()"
   ]
  },
  {
   "cell_type": "code",
   "execution_count": 32,
   "id": "compound-nursing",
   "metadata": {},
   "outputs": [
    {
     "name": "stdout",
     "output_type": "stream",
     "text": [
      "root Donald Trump buys a dog comp Donald Trump buys a dog\n",
      "root Donald Trump buys a dog comp U.S. Presidential Paws\n",
      "root President Trump gets a corgie comp President Trump gets a corgie\n",
      "root President Trump gets a corgie comp U.S. Presidential Paws\n",
      "root U.S. Presidential Paws comp Donald Trump buys a dog\n",
      "root U.S. Presidential Paws comp President Trump gets a corgie\n",
      "root U.S. Presidential Paws comp U.S. Presidential Paws\n",
      "root Biden sells his old car comp Biden sells his old car\n",
      "root Biden sells his old car comp President Biden to sell car\n",
      "root Biden sells his old car comp Biden getting that car cash\n",
      "root President Biden to sell car comp Biden sells his old car\n",
      "root President Biden to sell car comp President Biden to sell car\n",
      "root President Biden to sell car comp Biden getting that car cash\n",
      "root Biden getting that car cash comp Biden sells his old car\n",
      "root Biden getting that car cash comp President Biden to sell car\n",
      "root Biden getting that car cash comp Biden getting that car cash\n"
     ]
    }
   ],
   "source": [
    "G.clear()\n",
    "for art, artv in zip(articles, v):\n",
    "    root = (art, artv)\n",
    "    rel = [x for x,y in zip(articles,v) if utils.doc_sim(root[1], y) > .5]\n",
    "\n",
    "    for art in rel:\n",
    "        print('root',root[0][0],'comp', art[0])\n",
    "        G.add_edge(root[0][0], art[0])"
   ]
  },
  {
   "cell_type": "code",
   "execution_count": 33,
   "id": "broken-franklin",
   "metadata": {},
   "outputs": [
    {
     "data": {
      "image/png": "[encoded data removed]",
      "text/plain": [
       "<Figure size 432x288 with 1 Axes>"
      ]
     },
     "metadata": {},
     "output_type": "display_data"
    }
   ],
   "source": [
    "nx.draw(G)"
   ]
  },
  {
   "cell_type": "code",
   "execution_count": 34,
   "id": "personalized-mills",
   "metadata": {},
   "outputs": [],
   "source": [
    "from networkx.algorithms import community\n",
    "communities_generator = community.girvan_newman(G)\n",
    "\n",
    "top_level_communities = next(communities_generator)"
   ]
  },
  {
   "cell_type": "code",
   "execution_count": 35,
   "id": "electrical-raising",
   "metadata": {},
   "outputs": [
    {
     "data": {
      "text/plain": [
       "[['Biden getting that car cash',\n",
       "  'Biden sells his old car',\n",
       "  'President Biden to sell car'],\n",
       " ['Donald Trump buys a dog'],\n",
       " ['President Trump gets a corgie'],\n",
       " ['U.S. Presidential Paws']]"
      ]
     },
     "execution_count": 35,
     "metadata": {},
     "output_type": "execute_result"
    }
   ],
   "source": [
    "next_level_communities = next(communities_generator)\n",
    "\n",
    "sorted(map(sorted, next_level_communities))"
   ]
  },
  {
   "cell_type": "code",
   "execution_count": 36,
   "id": "thrown-norwegian",
   "metadata": {},
   "outputs": [
    {
     "data": {
      "text/plain": [
       "({'Donald Trump buys a dog'},\n",
       " {'President Trump gets a corgie', 'U.S. Presidential Paws'},\n",
       " {'Biden getting that car cash',\n",
       "  'Biden sells his old car',\n",
       "  'President Biden to sell car'})"
      ]
     },
     "execution_count": 36,
     "metadata": {},
     "output_type": "execute_result"
    }
   ],
   "source": [
    "top_level_communities"
   ]
  }
 ],
 "metadata": {
  "kernelspec": {
   "display_name": "Python 3",
   "language": "python",
   "name": "python3"
  },
  "language_info": {
   "codemirror_mode": {
    "name": "ipython",
    "version": 3
   },
   "file_extension": ".py",
   "mimetype": "text/x-python",
   "name": "python",
   "nbconvert_exporter": "python",
   "pygments_lexer": "ipython3",
   "version": "3.9.1"
  }
 },
 "nbformat": 4,
 "nbformat_minor": 5
}
