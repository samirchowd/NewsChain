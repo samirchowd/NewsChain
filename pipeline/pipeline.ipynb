{
 "cells": [
  {
   "cell_type": "code",
   "execution_count": 1,
   "id": "entitled-treasury",
   "metadata": {},
   "outputs": [],
   "source": [
    "# import statements\n",
    "import utils\n",
    "import numpy as np\n",
    "import pandas as pd\n",
    "import matplotlib.pyplot as plt\n",
    "from sentence_transformers import SentenceTransformer\n",
    "from sklearn.decomposition import PCA\n",
    "from sklearn.cluster import KMeans"
   ]
  },
  {
   "cell_type": "code",
   "execution_count": 2,
   "id": "conservative-interface",
   "metadata": {},
   "outputs": [],
   "source": [
    "# Loading data\n",
    "roberta = SentenceTransformer('stsb-roberta-base')\n",
    "approval = np.asarray([\n",
    "    ['Pfizer Applies for Emergency F.D.A. Approval for Covid-19 Vaccine',\n",
    "     'The drug maker Pfizer said on Friday that it had submitted an application to the Food and Drug Administration to authorize its coronavirus vaccine for emergency use, setting in motion an accelerated regulatory process that could allow the first Americans to get a vaccine by the middle of December.',\n",
    "    '2020-11-20', 'https://www.nytimes.com/2020/11/20/health/pfizer-covid-vaccine.html'],\n",
    "    ['Pfizer Vaccine Cleared in U.S., a Landmark in Covid-19 Fight', \n",
    "     'Pfizer Inc. gained emergency U.S. authorization for its Covid-19 vaccine on Friday, completing an unprecedented scientific sprint that could eventually help bring an end to a pandemic that has killed nearly 300,000 Americans.',\n",
    "     '2020-12-11', 'https://www.bloomberg.com/news/articles/2020-12-12/pfizer-covid-vaccine-wins-u-s-fda-emergency-use-authorization'],\n",
    "    ['FDA Says Pfizer-BioNTech Vaccine Is Safe, Effective',\n",
    "     'The Food and Drug Administration said the first Covid-19 vaccine being considered for U.S. distribution “met the prescribed success criteria” in a clinical study, paving the way for the agency to green-light distribution as early as this weekend.',\n",
    "     '2020-12-8', 'https://www.wsj.com/articles/fda-set-to-release-analyses-of-the-pfizer-biontech-covid-19-vaccine-11607423403'],\n",
    "    ['F.D.A. Clears Pfizer Vaccine, and Millions of Doses Will Be Shipped Right Away', \n",
    "     'The Food and Drug Administration authorized Pfizer’s Covid-19 vaccine for emergency use on Friday, clearing the way for millions of highly vulnerable people to begin receiving the vaccine within days.',\n",
    "     '2020-12-11', 'https://www.nytimes.com/2020/12/11/health/pfizer-vaccine-authorized.html'], \n",
    "    ['Covid: FDA approves Pfizer vaccine for emergency use in US', \n",
    "     'The US Food and Drug Administration hasa authorised the Pfizer-BioNTech coronavirus vaccine for emergency use.',\n",
    "     '2020-12-12', 'https://www.bbc.com/news/world-us-canada-55265477']\n",
    "])\n",
    "\n",
    "phase3 = np.asarray([\n",
    "    ['Pfizer, BioNTech’s Covid-19 vaccine shows high efficacy in Phase III study',\n",
    "    'Pfizer and BioNTech have reported that updated topline results from Phase III study of their Covid-19 vaccine, BNT162b2, demonstrated an efficacy of 91.3% against the disease, measured seven days through up to six months after the second dose.',\n",
    "    '2021-04-05', 'https://www.pharmaceutical-technology.com/news/pfizer-biontech-vaccine-efficacy/'],\n",
    "    ['Pfizer/BioNTech says its Covid-19 vaccine is 100% effective and well tolerated in adolescents',\n",
    "     'Clinical trial results of Pfizer/BioNTech\\'s Covid-19 vaccine showed its efficacy is 100% and it is well tolerated in youths ages 12 to 15, the companies said Wednesday.',\n",
    "     '2021-03-31', 'https://www.cnn.com/2021/03/31/health/pfizer-vaccine-adolescent-trial-results/index.html'], \n",
    "    [' Pfizer-BioNTech Announce Positive Topline Results of Pivotal COVID-19 Vaccine Study in Adolescents',\n",
    "    'In participants aged 12-15 years old, BNT162b2 demonstrated 100% efficacy and robust antibody responses, exceeding those reported in trial of vaccinated 16-25 year old participants in an earlier analysis, and was well tolerated',\n",
    "    '2021-03-31', 'https://www.businesswire.com/news/home/20210331005503/en/Pfizer-BioNTech-Announce-Positive-Topline-Results-of-Pivotal-COVID-19-Vaccine-Study-in-Adolescents'],\n",
    "    ['Pfizer/BioNTech vaccine effective after 6 months; Moderna starts variant trial',\n",
    "     'Pfizer (PFE) and BioNTech\\'s (BNTX) COVID-19 vaccine is proving effective six months after the second dose, according to an ongoing analysis of the Phase 3 trial participants.',\n",
    "     '2020-04-01', 'https://finance.yahoo.com/news/pfizer-bio-n-tech-vaccine-effective-after-6-months-moderna-starts-variant-trial-110722228.html'], \n",
    "    ['Pfizer and BioNTech say vaccine prevents Covid-19 in adolescents',\n",
    "     'Pfizer and BioNTech said Wednesday that their Covid-19 vaccine prevented symptomatic disease and was well-tolerated in a Phase 3 study of adolescents ages 12 to 15.',\n",
    "     '2020-03-31','https://www.statnews.com/2021/03/31/pfizer-covid19-vaccine-adolescents-data/']\n",
    "])\n",
    "\n",
    "phase1 = np.asarray([\n",
    "    ['U.S. Government Engages Pfizer to Produce Millions of Doses of COVID-19 Vaccine',\n",
    "     'The U.S. Department of Health and Human Services and the Department of Defense (DoD) today announced an agreement with U.S.-based Pfizer Inc. for large-scale production and nationwide delivery of 100 million doses of a COVID-19 vaccine in the United States following the vaccine’s successful manufacture and approval. The agreement also allows the U.S. government to acquire an additional 500 million doses.',\n",
    "     '2020-06-22', 'https://www.hhs.gov/about/news/2020/07/22/us-government-engages-pfizer-produce-millions-doses-covid-19-vaccine.html'],\n",
    "    ['Pfizer and BioNTech Announce Early Positive Update from German Phase 1/2 COVID-19 Vaccine Study, Including First T Cell Response Data',\n",
    "     'MAINZ, Germany and NEW YORK, July 20, 2020 (GLOBE NEWSWIRE) -- BioNTech SE (Nasdaq: BNTX, “BioNTech” or “the Company”) and Pfizer Inc. (NYSE: PFE) today announced initial data from their ongoing German Phase 1/2, open-label, non-randomized, non-placebo-controlled, dose-escalation trial, that is part of the global mRNA-based vaccine program against SARS-CoV-2.',\n",
    "     '2020-06-20', 'https://www.globenewswire.com/news-release/2020/07/20/2064351/0/en/Pfizer-and-BioNTech-Announce-Early-Positive-Update-from-German-Phase-1-2-COVID-19-Vaccine-Study-Including-First-T-Cell-Response-Data.html'],\n",
    "    ['Pfizer Gets $1.95 Billion to Produce Coronavirus Vaccine by Year’s End',\n",
    "     'WASHINGTON — As nations around the world race to lock up coronavirus vaccines evenbefore they are ready, the Trump administration on Wednesday made one of the largestinvestments yet, announcing a nearly $2 billion contract with Pfizer and a Germanbiotechnology company for 100 million doses by December.',\n",
    "     '2020-06-22', 'https://www.nytimes.com/2020/07/22/us/politics/pfizer-coronavirus-vaccine.html'],\n",
    "    ['Covid-19 vaccine from Pfizer and BioNTech shows positive results',\n",
    "     'An experimental Covid-19 vaccine being developed by the drug giant Pfizer and the biotech firm BioNTech spurred immune responses in healthy patients, but also caused fever and other side effects, especially at higher doses.',\n",
    "     '2020-06-01', 'https://www.statnews.com/2020/07/01/covid-19-vaccine-from-pfizer-and-biontech-shows-positive-results/'],\n",
    "    ['Pfizer and BioNTech begin large-scale trial of coronavirus vaccine in the United States',\n",
    "     'Drug giant Pfizer and its partner BioNTech have begun an advanced trial of one of their experimental coronavirus vaccines in volunteers in the United States.',\n",
    "     '2020-06-28', 'https://www.cnn.com/2020/07/28/health/pfizer-coronavirus-vaccine-trial-begins-biontech/index.html'],\n",
    "])"
   ]
  },
  {
   "cell_type": "code",
   "execution_count": 89,
   "id": "entitled-bathroom",
   "metadata": {},
   "outputs": [
    {
     "data": {
      "text/html": [
       "<div>\n",
       "<style scoped>\n",
       "    .dataframe tbody tr th:only-of-type {\n",
       "        vertical-align: middle;\n",
       "    }\n",
       "\n",
       "    .dataframe tbody tr th {\n",
       "        vertical-align: top;\n",
       "    }\n",
       "\n",
       "    .dataframe thead th {\n",
       "        text-align: right;\n",
       "    }\n",
       "</style>\n",
       "<table border=\"1\" class=\"dataframe\">\n",
       "  <thead>\n",
       "    <tr style=\"text-align: right;\">\n",
       "      <th></th>\n",
       "      <th>title</th>\n",
       "      <th>abstract</th>\n",
       "      <th>time_stamp</th>\n",
       "      <th>url</th>\n",
       "    </tr>\n",
       "  </thead>\n",
       "  <tbody>\n",
       "    <tr>\n",
       "      <th>0</th>\n",
       "      <td>U.S. Government Engages Pfizer to Produce Mill...</td>\n",
       "      <td>The U.S. Department of Health and Human Servic...</td>\n",
       "      <td>2020-06-22</td>\n",
       "      <td>https://www.hhs.gov/about/news/2020/07/22/us-g...</td>\n",
       "    </tr>\n",
       "    <tr>\n",
       "      <th>1</th>\n",
       "      <td>Pfizer and BioNTech Announce Early Positive Up...</td>\n",
       "      <td>MAINZ, Germany and NEW YORK, July 20, 2020 (GL...</td>\n",
       "      <td>2020-06-20</td>\n",
       "      <td>https://www.globenewswire.com/news-release/202...</td>\n",
       "    </tr>\n",
       "    <tr>\n",
       "      <th>2</th>\n",
       "      <td>Pfizer Gets $1.95 Billion to Produce Coronavir...</td>\n",
       "      <td>WASHINGTON — As nations around the world race ...</td>\n",
       "      <td>2020-06-22</td>\n",
       "      <td>https://www.nytimes.com/2020/07/22/us/politics...</td>\n",
       "    </tr>\n",
       "    <tr>\n",
       "      <th>3</th>\n",
       "      <td>Covid-19 vaccine from Pfizer and BioNTech show...</td>\n",
       "      <td>An experimental Covid-19 vaccine being develop...</td>\n",
       "      <td>2020-06-01</td>\n",
       "      <td>https://www.statnews.com/2020/07/01/covid-19-v...</td>\n",
       "    </tr>\n",
       "    <tr>\n",
       "      <th>4</th>\n",
       "      <td>Pfizer and BioNTech begin large-scale trial of...</td>\n",
       "      <td>Drug giant Pfizer and its partner BioNTech hav...</td>\n",
       "      <td>2020-06-28</td>\n",
       "      <td>https://www.cnn.com/2020/07/28/health/pfizer-c...</td>\n",
       "    </tr>\n",
       "    <tr>\n",
       "      <th>5</th>\n",
       "      <td>Pfizer Applies for Emergency F.D.A. Approval f...</td>\n",
       "      <td>The drug maker Pfizer said on Friday that it h...</td>\n",
       "      <td>2020-11-20</td>\n",
       "      <td>https://www.nytimes.com/2020/11/20/health/pfiz...</td>\n",
       "    </tr>\n",
       "    <tr>\n",
       "      <th>6</th>\n",
       "      <td>Pfizer Vaccine Cleared in U.S., a Landmark in ...</td>\n",
       "      <td>Pfizer Inc. gained emergency U.S. authorizatio...</td>\n",
       "      <td>2020-12-11</td>\n",
       "      <td>https://www.bloomberg.com/news/articles/2020-1...</td>\n",
       "    </tr>\n",
       "    <tr>\n",
       "      <th>7</th>\n",
       "      <td>FDA Says Pfizer-BioNTech Vaccine Is Safe, Effe...</td>\n",
       "      <td>The Food and Drug Administration said the firs...</td>\n",
       "      <td>2020-12-8</td>\n",
       "      <td>https://www.wsj.com/articles/fda-set-to-releas...</td>\n",
       "    </tr>\n",
       "    <tr>\n",
       "      <th>8</th>\n",
       "      <td>F.D.A. Clears Pfizer Vaccine, and Millions of ...</td>\n",
       "      <td>The Food and Drug Administration authorized Pf...</td>\n",
       "      <td>2020-12-11</td>\n",
       "      <td>https://www.nytimes.com/2020/12/11/health/pfiz...</td>\n",
       "    </tr>\n",
       "    <tr>\n",
       "      <th>9</th>\n",
       "      <td>Covid: FDA approves Pfizer vaccine for emergen...</td>\n",
       "      <td>The US Food and Drug Administration has author...</td>\n",
       "      <td>2020-12-12</td>\n",
       "      <td>https://www.bbc.com/news/world-us-canada-55265477</td>\n",
       "    </tr>\n",
       "    <tr>\n",
       "      <th>10</th>\n",
       "      <td>Pfizer, BioNTech’s Covid-19 vaccine shows high...</td>\n",
       "      <td>Pfizer and BioNTech have reported that updated...</td>\n",
       "      <td>2021-04-05</td>\n",
       "      <td>https://www.pharmaceutical-technology.com/news...</td>\n",
       "    </tr>\n",
       "    <tr>\n",
       "      <th>11</th>\n",
       "      <td>Pfizer/BioNTech says its Covid-19 vaccine is 1...</td>\n",
       "      <td>Clinical trial results of Pfizer/BioNTech's Co...</td>\n",
       "      <td>2021-03-31</td>\n",
       "      <td>https://www.cnn.com/2021/03/31/health/pfizer-v...</td>\n",
       "    </tr>\n",
       "    <tr>\n",
       "      <th>12</th>\n",
       "      <td>Pfizer-BioNTech Announce Positive Topline Res...</td>\n",
       "      <td>In participants aged 12-15 years old, BNT162b2...</td>\n",
       "      <td>2021-03-31</td>\n",
       "      <td>https://www.businesswire.com/news/home/2021033...</td>\n",
       "    </tr>\n",
       "    <tr>\n",
       "      <th>13</th>\n",
       "      <td>Pfizer/BioNTech vaccine effective after 6 mont...</td>\n",
       "      <td>Pfizer (PFE) and BioNTech's (BNTX) COVID-19 va...</td>\n",
       "      <td>2020-04-01</td>\n",
       "      <td>https://finance.yahoo.com/news/pfizer-bio-n-te...</td>\n",
       "    </tr>\n",
       "    <tr>\n",
       "      <th>14</th>\n",
       "      <td>Pfizer and BioNTech say vaccine prevents Covid...</td>\n",
       "      <td>Pfizer and BioNTech said Wednesday that their ...</td>\n",
       "      <td>2020-03-31</td>\n",
       "      <td>https://www.statnews.com/2021/03/31/pfizer-cov...</td>\n",
       "    </tr>\n",
       "  </tbody>\n",
       "</table>\n",
       "</div>"
      ],
      "text/plain": [
       "                                                title  \\\n",
       "0   U.S. Government Engages Pfizer to Produce Mill...   \n",
       "1   Pfizer and BioNTech Announce Early Positive Up...   \n",
       "2   Pfizer Gets $1.95 Billion to Produce Coronavir...   \n",
       "3   Covid-19 vaccine from Pfizer and BioNTech show...   \n",
       "4   Pfizer and BioNTech begin large-scale trial of...   \n",
       "5   Pfizer Applies for Emergency F.D.A. Approval f...   \n",
       "6   Pfizer Vaccine Cleared in U.S., a Landmark in ...   \n",
       "7   FDA Says Pfizer-BioNTech Vaccine Is Safe, Effe...   \n",
       "8   F.D.A. Clears Pfizer Vaccine, and Millions of ...   \n",
       "9   Covid: FDA approves Pfizer vaccine for emergen...   \n",
       "10  Pfizer, BioNTech’s Covid-19 vaccine shows high...   \n",
       "11  Pfizer/BioNTech says its Covid-19 vaccine is 1...   \n",
       "12   Pfizer-BioNTech Announce Positive Topline Res...   \n",
       "13  Pfizer/BioNTech vaccine effective after 6 mont...   \n",
       "14  Pfizer and BioNTech say vaccine prevents Covid...   \n",
       "\n",
       "                                             abstract  time_stamp  \\\n",
       "0   The U.S. Department of Health and Human Servic...  2020-06-22   \n",
       "1   MAINZ, Germany and NEW YORK, July 20, 2020 (GL...  2020-06-20   \n",
       "2   WASHINGTON — As nations around the world race ...  2020-06-22   \n",
       "3   An experimental Covid-19 vaccine being develop...  2020-06-01   \n",
       "4   Drug giant Pfizer and its partner BioNTech hav...  2020-06-28   \n",
       "5   The drug maker Pfizer said on Friday that it h...  2020-11-20   \n",
       "6   Pfizer Inc. gained emergency U.S. authorizatio...  2020-12-11   \n",
       "7   The Food and Drug Administration said the firs...   2020-12-8   \n",
       "8   The Food and Drug Administration authorized Pf...  2020-12-11   \n",
       "9   The US Food and Drug Administration has author...  2020-12-12   \n",
       "10  Pfizer and BioNTech have reported that updated...  2021-04-05   \n",
       "11  Clinical trial results of Pfizer/BioNTech's Co...  2021-03-31   \n",
       "12  In participants aged 12-15 years old, BNT162b2...  2021-03-31   \n",
       "13  Pfizer (PFE) and BioNTech's (BNTX) COVID-19 va...  2020-04-01   \n",
       "14  Pfizer and BioNTech said Wednesday that their ...  2020-03-31   \n",
       "\n",
       "                                                  url  \n",
       "0   https://www.hhs.gov/about/news/2020/07/22/us-g...  \n",
       "1   https://www.globenewswire.com/news-release/202...  \n",
       "2   https://www.nytimes.com/2020/07/22/us/politics...  \n",
       "3   https://www.statnews.com/2020/07/01/covid-19-v...  \n",
       "4   https://www.cnn.com/2020/07/28/health/pfizer-c...  \n",
       "5   https://www.nytimes.com/2020/11/20/health/pfiz...  \n",
       "6   https://www.bloomberg.com/news/articles/2020-1...  \n",
       "7   https://www.wsj.com/articles/fda-set-to-releas...  \n",
       "8   https://www.nytimes.com/2020/12/11/health/pfiz...  \n",
       "9   https://www.bbc.com/news/world-us-canada-55265477  \n",
       "10  https://www.pharmaceutical-technology.com/news...  \n",
       "11  https://www.cnn.com/2021/03/31/health/pfizer-v...  \n",
       "12  https://www.businesswire.com/news/home/2021033...  \n",
       "13  https://finance.yahoo.com/news/pfizer-bio-n-te...  \n",
       "14  https://www.statnews.com/2021/03/31/pfizer-cov...  "
      ]
     },
     "execution_count": 89,
     "metadata": {},
     "output_type": "execute_result"
    }
   ],
   "source": [
    "data"
   ]
  },
  {
   "cell_type": "code",
   "execution_count": 3,
   "id": "found-smith",
   "metadata": {},
   "outputs": [],
   "source": [
    "# Creating dataframes\n",
    "df1 = pd.DataFrame(phase1, columns = ['title', 'abstract', 'time_stamp', 'url'], index = [0, 1, 2, 3 , 4])\n",
    "df2 = pd.DataFrame(approval, columns = ['title', 'abstract', 'time_stamp', 'url'], index = [5,6,7,8,9])\n",
    "df3 = pd.DataFrame(phase3, columns = ['title', 'abstract', 'time_stamp', 'url'], index=[10, 11, 12, 13, 14])"
   ]
  },
  {
   "cell_type": "code",
   "execution_count": 4,
   "id": "flexible-modem",
   "metadata": {},
   "outputs": [],
   "source": [
    "v1 = utils.encode([x + ': ' + y for x,y in zip(df1['title'], df1['abstract'])], roberta)\n",
    "v2 = utils.encode([x + ': ' + y for x,y in zip(df2['title'], df2['abstract'])], roberta)\n",
    "v3 = utils.encode([x + ': ' + y for x,y in zip(df3['title'], df3['abstract'])], roberta)"
   ]
  },
  {
   "cell_type": "code",
   "execution_count": 5,
   "id": "approved-champion",
   "metadata": {},
   "outputs": [],
   "source": [
    "data = pd.concat([df1, df2, df3])\n",
    "v = np.concatenate([v1,v2, v3])"
   ]
  },
  {
   "cell_type": "code",
   "execution_count": 7,
   "id": "wired-automation",
   "metadata": {},
   "outputs": [],
   "source": [
    "# Vectorizing "
   ]
  },
  {
   "cell_type": "code",
   "execution_count": null,
   "id": "comfortable-colony",
   "metadata": {},
   "outputs": [],
   "source": [
    "# Retrieving related articles "
   ]
  },
  {
   "cell_type": "code",
   "execution_count": 6,
   "id": "increasing-briefing",
   "metadata": {},
   "outputs": [],
   "source": [
    "# Creating the graph\n",
    "import networkx as nx\n",
    "\n",
    "G = nx.Graph()"
   ]
  },
  {
   "cell_type": "code",
   "execution_count": 71,
   "id": "champion-tradition",
   "metadata": {},
   "outputs": [],
   "source": [
    "G.clear()\n",
    "for root, v0 in zip(data['title'], v):\n",
    "    for comp, v1 in zip(data['title'], v):\n",
    "        if utils.doc_sim(v0,v1) > .75:\n",
    "            G.add_edge(root, comp, weight=utils.doc_sim(v0,v1))"
   ]
  },
  {
   "cell_type": "code",
   "execution_count": 72,
   "id": "familiar-south",
   "metadata": {},
   "outputs": [
    {
     "name": "stdout",
     "output_type": "stream",
     "text": [
      "Using matplotlib backend: MacOSX\n"
     ]
    }
   ],
   "source": [
    "%matplotlib auto\n",
    "nx.draw(G, with_labels=False)"
   ]
  },
  {
   "cell_type": "code",
   "execution_count": 73,
   "id": "stainless-hearing",
   "metadata": {},
   "outputs": [],
   "source": [
    "from networkx.algorithms import community\n",
    "from networkx import edge_betweenness_centrality as betweenness\n",
    "\n",
    "def most_central_edge(G):\n",
    "\n",
    "    centrality = betweenness(G, weight=\"weight\")\n",
    "\n",
    "    return max(centrality, key=centrality.get)\n",
    "\n",
    "comp = community.girvan_newman(G, most_valuable_edge=most_central_edge)\n",
    "\n",
    "communities =tuple(sorted(c) for c in next(comp))"
   ]
  },
  {
   "cell_type": "code",
   "execution_count": 74,
   "id": "controlled-copyright",
   "metadata": {},
   "outputs": [],
   "source": [
    "# Extracting full articles from communities\n",
    "cdf = []\n",
    "for com in communities:\n",
    "    df = pd.DataFrame()\n",
    "    for art in com:\n",
    "        x = data.loc[data['title'] == art]\n",
    "        df = df.append(x)\n",
    "    cdf.append(df)"
   ]
  },
  {
   "cell_type": "code",
   "execution_count": 75,
   "id": "geographic-standing",
   "metadata": {},
   "outputs": [],
   "source": [
    "# Reducing each community down to an article \n",
    "min_coms = [] \n",
    "for com in cdf:\n",
    "    min_time = min(com['time_stamp'])\n",
    "    df = pd.DataFrame()\n",
    "    df = df.append(com.loc[com['time_stamp'] == min_time])\n",
    "    min_coms.append(df)"
   ]
  },
  {
   "cell_type": "code",
   "execution_count": null,
   "id": "wrong-spray",
   "metadata": {},
   "outputs": [],
   "source": []
  },
  {
   "cell_type": "code",
   "execution_count": 78,
   "id": "confirmed-canvas",
   "metadata": {},
   "outputs": [],
   "source": [
    "el = nx.DiGraph()\n",
    "el.clear()\n",
    "\n",
    "# Generating Lv and Huang graph \n",
    "lv = sorted([(x,list(x['time_stamp'])) for x in min_coms], key = lambda x: x[1])\n",
    "lv = [x[0] for x in lv]\n",
    "for i in range(1, len(lv)):\n",
    "    el.add_edge(list(lv[i-1]['title'])[0], (list(lv[i]['title'])[0]))"
   ]
  },
  {
   "cell_type": "code",
   "execution_count": 79,
   "id": "recent-personality",
   "metadata": {},
   "outputs": [
    {
     "name": "stdout",
     "output_type": "stream",
     "text": [
      "Using matplotlib backend: MacOSX\n"
     ]
    }
   ],
   "source": [
    "# Drawing the graph \n",
    "%matplotlib auto\n",
    "nx.draw_kamada_kawai(el, with_labels=True)"
   ]
  },
  {
   "cell_type": "code",
   "execution_count": 85,
   "id": "eleven-shade",
   "metadata": {},
   "outputs": [],
   "source": [
    "# Generating NewsChain event line \n",
    "\n",
    "# Defining similarity between sub-events \n",
    "# Similarity = avg_pairwise_eos \n",
    "# Rules for drawing edge, if sim > theta, draw directed edge based on min time \n",
    "el = nx.DiGraph()\n",
    "el.clear()\n",
    "def pairwise_sim(df1, df2, model):\n",
    "    t1 = [x + ': ' + y for x in df1['title'] for y in df1['abstract']]\n",
    "    t2 = [x + ': ' + y for x in df2['title'] for y in df2['abstract']]\n",
    "    v1 = utils.encode(t1, model)\n",
    "    v2 = utils.encode(t2, model)\n",
    "    tot = 0\n",
    "    for x in v1:\n",
    "        for y in v2:\n",
    "            tot += utils.doc_sim(x, y) \n",
    "            \n",
    "    return tot / (len(v1)  + len(v2))\n",
    "\n",
    "# def pairwise_sim(v1, v2):\n",
    "#     tot = 0\n",
    "#     for x in v1:\n",
    "#         for y in v2:\n",
    "#             tot += utils.doc_sim(x, y) \n",
    "#     return tot / (len(v1) *len(v2))\n",
    "            \n",
    "for com1, rep1 in zip(cdf, min_coms):\n",
    "    for com2, rep2 in zip(cdf, min_coms):\n",
    "        bruh = pairwise_sim(com1, com2, roberta)\n",
    "        if bruh > 0.2: \n",
    "            if list(rep1['time_stamp'])[0] > list(rep2['time_stamp'])[0]:\n",
    "                el.add_weighted_edges_from([(str(rep1['title']), str(rep2['title']), bruh)])\n",
    "            else:\n",
    "                el.add_weighted_edges_from([(str(rep2['title']), str(rep1['title']), bruh)])"
   ]
  },
  {
   "cell_type": "code",
   "execution_count": 86,
   "id": "august-glasgow",
   "metadata": {},
   "outputs": [],
   "source": [
    "nx.draw(el, with_labels = True)"
   ]
  },
  {
   "cell_type": "code",
   "execution_count": 96,
   "id": "oriented-dubai",
   "metadata": {},
   "outputs": [
    {
     "data": {
      "text/plain": [
       "False"
      ]
     },
     "execution_count": 96,
     "metadata": {},
     "output_type": "execute_result"
    }
   ],
   "source": [
    "DG = nx.DiGraph()\n",
    "\n",
    "DG.add_weighted_edges_from([(1, 2, 0.5), (3, 1, 0.75)])\n",
    "\n",
    "DG.out_degree(1, weight='weight')\n",
    "\n",
    "\n",
    "DG.degree(1, weight='weight')\n",
    "list(min_coms[1]['time_stamp'])[0] > list(min_coms[2]['time_stamp'])[0]"
   ]
  }
 ],
 "metadata": {
  "kernelspec": {
   "display_name": "Python 3",
   "language": "python",
   "name": "python3"
  },
  "language_info": {
   "codemirror_mode": {
    "name": "ipython",
    "version": 3
   },
   "file_extension": ".py",
   "mimetype": "text/x-python",
   "name": "python",
   "nbconvert_exporter": "python",
   "pygments_lexer": "ipython3",
   "version": "3.9.1"
  }
 },
 "nbformat": 4,
 "nbformat_minor": 5
}
