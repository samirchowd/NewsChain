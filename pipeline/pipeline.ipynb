{
 "cells": [
  {
   "cell_type": "code",
   "execution_count": 1,
   "id": "durable-shield",
   "metadata": {},
   "outputs": [],
   "source": [
    "# import statements\n",
    "import utils\n",
    "import numpy as np\n",
    "import matplotlib.pyplot as plt\n",
    "from sentence_transformers import SentenceTransformer\n",
    "from sklearn.decomposition import PCA\n",
    "from sklearn.cluster import KMeans"
   ]
  },
  {
   "cell_type": "code",
   "execution_count": 2,
   "id": "built-breed",
   "metadata": {},
   "outputs": [],
   "source": [
    "# Loading data\n",
    "\n",
    "# Fake data\n",
    "articles = np.asarray([\n",
    "    [\"Donald Trump buys a dog\", \"Donald Trump recently was found buying a dog\"],\n",
    "    [\"President Trump gets a corgie\", \"The White House welcomes a new furry friend, and its name is Evan!\"],\n",
    "    [\"U.S. Presidential Paws\", \"You won't believe the new dog that Donald and the fam just got!\"],\n",
    "    [\"Biden sells his old car\", \"President Biden just announced that he is selling is '96 Civic\"],\n",
    "    [\"President Biden to sell car\", \"Biden announced via Twitter that he will indeed be selling his car\"],\n",
    "    [\"Biden getting that car cash\", \"Biden is about to cash out once he sells that junker civic!\"]\n",
    "])"
   ]
  },
  {
   "cell_type": "code",
   "execution_count": 3,
   "id": "noble-jumping",
   "metadata": {},
   "outputs": [],
   "source": [
    "# Vectorizing \n",
    "# Combining headlines and bodies\n",
    "a = [x[0] + ': ' + x[1] for x in articles]\n",
    "# Generating model \n",
    "roberta = SentenceTransformer('stsb-roberta-base')\n",
    "v = utils.encode(a, roberta)"
   ]
  },
  {
   "cell_type": "code",
   "execution_count": 4,
   "id": "handled-award",
   "metadata": {},
   "outputs": [
    {
     "name": "stdout",
     "output_type": "stream",
     "text": [
      "Percent variance explained: 1.00\n"
     ]
    }
   ],
   "source": [
    "# Dimensionality reduction\n",
    "pca = PCA(n_components = 5)\n",
    "components = pca.fit_transform(v)\n",
    "print('Percent variance explained: {:.2f}'.format(sum(pca.explained_variance_ratio_)))"
   ]
  },
  {
   "cell_type": "code",
   "execution_count": 5,
   "id": "reported-annex",
   "metadata": {},
   "outputs": [
    {
     "data": {
      "text/plain": [
       "<matplotlib.collections.PathCollection at 0x7fbd57db9cd0>"
      ]
     },
     "execution_count": 5,
     "metadata": {},
     "output_type": "execute_result"
    },
    {
     "data": {
      "image/png": "[encoded data removed]",
      "text/plain": [
       "<Figure size 432x288 with 1 Axes>"
      ]
     },
     "metadata": {
      "needs_background": "light"
     },
     "output_type": "display_data"
    }
   ],
   "source": [
    "# Visualizing PCA\n",
    "plt.scatter(components[:,0], components[:,1])"
   ]
  },
  {
   "cell_type": "code",
   "execution_count": 6,
   "id": "recorded-material",
   "metadata": {},
   "outputs": [],
   "source": [
    "# Clustering \n",
    "K = 2\n",
    "clusters = KMeans(n_clusters=K, random_state=0).fit(components)"
   ]
  },
  {
   "cell_type": "code",
   "execution_count": 7,
   "id": "radio-credits",
   "metadata": {},
   "outputs": [
    {
     "data": {
      "image/png": "[encoded data removed]",
      "text/plain": [
       "<Figure size 432x288 with 1 Axes>"
      ]
     },
     "metadata": {
      "needs_background": "light"
     },
     "output_type": "display_data"
    }
   ],
   "source": [
    "# Visualizing Clusters\n",
    "for i in range(K):\n",
    "    labels = clusters.labels_ == i\n",
    "    plt.scatter(components[labels,0], components[labels,1])"
   ]
  },
  {
   "cell_type": "code",
   "execution_count": 8,
   "id": "broadband-administration",
   "metadata": {},
   "outputs": [
    {
     "name": "stdout",
     "output_type": "stream",
     "text": [
      "Cluster #: 0\n",
      "0 ['Biden sells his old car'\n",
      " \"President Biden just announced that he is selling is '96 Civic\"]\n",
      "1 ['President Biden to sell car'\n",
      " 'Biden announced via Twitter that he will indeed be selling his car']\n",
      "2 ['Biden getting that car cash'\n",
      " 'Biden is about to cash out once he sells that junker civic!']\n",
      "Cluster #: 1\n",
      "0 ['Donald Trump buys a dog' 'Donald Trump recently was found buying a dog']\n",
      "1 ['President Trump gets a corgie'\n",
      " 'The White House welcomes a new furry friend, and its name is Evan!']\n",
      "2 ['U.S. Presidential Paws'\n",
      " \"You won't believe the new dog that Donald and the fam just got!\"]\n"
     ]
    }
   ],
   "source": [
    "# Printing out different clusters\n",
    "for i in range(K):\n",
    "    labels = clusters.labels_ == i\n",
    "    print('Cluster #:', i)\n",
    "    for j, article in enumerate(articles[labels]):\n",
    "        print(j, article)"
   ]
  },
  {
   "cell_type": "code",
   "execution_count": 29,
   "id": "latter-theology",
   "metadata": {},
   "outputs": [],
   "source": [
    "# Creating the graph\n",
    "import networkx as nx\n",
    "\n",
    "G = nx.Graph()"
   ]
  },
  {
   "cell_type": "code",
   "execution_count": 63,
   "id": "cooked-infrastructure",
   "metadata": {},
   "outputs": [],
   "source": [
    "G.add_nodes_from(['dog','cat'])\n",
    "G.add_edge('dog','cat')\n",
    "G.add_edge(1,2)\n",
    "G.clear()"
   ]
  },
  {
   "cell_type": "code",
   "execution_count": 72,
   "id": "annual-restoration",
   "metadata": {},
   "outputs": [
    {
     "name": "stdout",
     "output_type": "stream",
     "text": [
      "Donald Trump buys a dog Donald Trump buys a dog\n",
      "Donald Trump buys a dog President Trump gets a corgie\n",
      "Donald Trump buys a dog U.S. Presidential Paws\n",
      "Donald Trump buys a dog Biden sells his old car\n",
      "Donald Trump buys a dog President Biden to sell car\n",
      "Donald Trump buys a dog Biden getting that car cash\n",
      "President Trump gets a corgie Donald Trump buys a dog\n",
      "President Trump gets a corgie President Trump gets a corgie\n",
      "President Trump gets a corgie U.S. Presidential Paws\n",
      "President Trump gets a corgie Biden sells his old car\n",
      "President Trump gets a corgie President Biden to sell car\n",
      "President Trump gets a corgie Biden getting that car cash\n",
      "U.S. Presidential Paws Donald Trump buys a dog\n",
      "U.S. Presidential Paws President Trump gets a corgie\n",
      "U.S. Presidential Paws U.S. Presidential Paws\n",
      "U.S. Presidential Paws Biden sells his old car\n",
      "U.S. Presidential Paws President Biden to sell car\n",
      "U.S. Presidential Paws Biden getting that car cash\n",
      "Biden sells his old car Donald Trump buys a dog\n",
      "Biden sells his old car President Trump gets a corgie\n",
      "Biden sells his old car U.S. Presidential Paws\n",
      "Biden sells his old car Biden sells his old car\n",
      "Biden sells his old car President Biden to sell car\n",
      "Biden sells his old car Biden getting that car cash\n",
      "President Biden to sell car Donald Trump buys a dog\n",
      "President Biden to sell car President Trump gets a corgie\n",
      "President Biden to sell car U.S. Presidential Paws\n",
      "President Biden to sell car Biden sells his old car\n",
      "President Biden to sell car President Biden to sell car\n",
      "President Biden to sell car Biden getting that car cash\n",
      "Biden getting that car cash Donald Trump buys a dog\n",
      "Biden getting that car cash President Trump gets a corgie\n",
      "Biden getting that car cash U.S. Presidential Paws\n",
      "Biden getting that car cash Biden sells his old car\n",
      "Biden getting that car cash President Biden to sell car\n",
      "Biden getting that car cash Biden getting that car cash\n"
     ]
    }
   ],
   "source": [
    "for art, artv in zip(articles, v):\n",
    "    root = (art, artv)\n",
    "    rel = [x for x,y in zip(articles,v) if utils.doc_sim(root[1], y) > .01]\n",
    "\n",
    "    for art in rel:\n",
    "        print(root[0][0], art[0])\n",
    "        G.add_edge(root[0][0], art[0])"
   ]
  },
  {
   "cell_type": "code",
   "execution_count": 68,
   "id": "noted-thought",
   "metadata": {},
   "outputs": [
    {
     "data": {
      "image/png": "[encoded data removed]",
      "text/plain": [
       "<Figure size 432x288 with 1 Axes>"
      ]
     },
     "metadata": {},
     "output_type": "display_data"
    }
   ],
   "source": [
    "nx.draw(G)"
   ]
  },
  {
   "cell_type": "code",
   "execution_count": null,
   "id": "national-north",
   "metadata": {},
   "outputs": [],
   "source": [
    "G."
   ]
  }
 ],
 "metadata": {
  "kernelspec": {
   "display_name": "Python 3",
   "language": "python",
   "name": "python3"
  },
  "language_info": {
   "codemirror_mode": {
    "name": "ipython",
    "version": 3
   },
   "file_extension": ".py",
   "mimetype": "text/x-python",
   "name": "python",
   "nbconvert_exporter": "python",
   "pygments_lexer": "ipython3",
   "version": "3.9.1"
  }
 },
 "nbformat": 4,
 "nbformat_minor": 5
}
