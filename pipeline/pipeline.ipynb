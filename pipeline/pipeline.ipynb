{
 "cells": [
  {
   "cell_type": "code",
   "execution_count": 2,
   "id": "statutory-professor",
   "metadata": {},
   "outputs": [],
   "source": [
    "# import statements\n",
    "import utils\n",
    "import numpy as np\n",
    "import pandas as pd\n",
    "import matplotlib.pyplot as plt\n",
    "from sentence_transformers import SentenceTransformer\n",
    "from sklearn.decomposition import PCA\n",
    "from sklearn.cluster import KMeans"
   ]
  },
  {
   "cell_type": "code",
   "execution_count": 3,
   "id": "color-combat",
   "metadata": {},
   "outputs": [],
   "source": [
    "# Loading data\n",
    "\n",
    "# Fake data\n",
    "articles = np.asarray([\n",
    "    [\"Donald Trump buys a dog\", \"Donald Trump recently was found buying a dog\"],\n",
    "    [\"President Trump gets a corgie\", \"The White House welcomes a new furry friend, and its name is Evan!\"],\n",
    "    [\"U.S. Presidential Paws\", \"You won't believe the new dog that Donald and the fam just got!\"],\n",
    "    [\"Biden sells his old car\", \"President Biden just announced that he is selling is '96 Civic\"],\n",
    "    [\"President Biden to sell car\", \"Biden announced via Twitter that he will indeed be selling his car\"],\n",
    "    [\"Biden getting that car cash\", \"Biden is about to cash out once he sells that junker civic!\"]\n",
    "])\n",
    "\n",
    "data = utils.toframe(utils.files)"
   ]
  },
  {
   "cell_type": "code",
   "execution_count": 4,
   "id": "approved-bikini",
   "metadata": {},
   "outputs": [
    {
     "data": {
      "text/html": [
       "<div>\n",
       "<style scoped>\n",
       "    .dataframe tbody tr th:only-of-type {\n",
       "        vertical-align: middle;\n",
       "    }\n",
       "\n",
       "    .dataframe tbody tr th {\n",
       "        vertical-align: top;\n",
       "    }\n",
       "\n",
       "    .dataframe thead th {\n",
       "        text-align: right;\n",
       "    }\n",
       "</style>\n",
       "<table border=\"1\" class=\"dataframe\">\n",
       "  <thead>\n",
       "    <tr style=\"text-align: right;\">\n",
       "      <th></th>\n",
       "      <th>article_id</th>\n",
       "      <th>title</th>\n",
       "      <th>abstract</th>\n",
       "      <th>author</th>\n",
       "      <th>source</th>\n",
       "      <th>time_stamp</th>\n",
       "      <th>link</th>\n",
       "      <th>query</th>\n",
       "    </tr>\n",
       "  </thead>\n",
       "  <tbody>\n",
       "    <tr>\n",
       "      <th>0</th>\n",
       "      <td>-6606275897906588298</td>\n",
       "      <td>Three Men Are Accused in Scheme to Sell Covid-...</td>\n",
       "      <td>Prosecutors said the men created a fake duplic...</td>\n",
       "      <td>By Concepción de León</td>\n",
       "      <td>The New York Times</td>\n",
       "      <td>2021-02-12T22:09:48+0000</td>\n",
       "      <td>https://www.nytimes.com/2021/02/12/us/baltimor...</td>\n",
       "      <td>moderna</td>\n",
       "    </tr>\n",
       "    <tr>\n",
       "      <th>1</th>\n",
       "      <td>-759365642050973959</td>\n",
       "      <td>Covid Vaccines for Kids Are Coming, but Not fo...</td>\n",
       "      <td>Pfizer and Moderna are testing their vaccines ...</td>\n",
       "      <td>By Apoorva Mandavilli</td>\n",
       "      <td>The New York Times</td>\n",
       "      <td>2021-02-12T10:00:21+0000</td>\n",
       "      <td>https://www.nytimes.com/2021/02/12/health/covi...</td>\n",
       "      <td>moderna</td>\n",
       "    </tr>\n",
       "    <tr>\n",
       "      <th>2</th>\n",
       "      <td>-7222055656088273670</td>\n",
       "      <td>Where Do Vaccine Doses Go, and Who Gets Them? ...</td>\n",
       "      <td>Health agencies and hospitals are using differ...</td>\n",
       "      <td>By Natasha Singer</td>\n",
       "      <td>The New York Times</td>\n",
       "      <td>2021-02-07T19:37:49+0000</td>\n",
       "      <td>https://www.nytimes.com/2021/02/07/technology/...</td>\n",
       "      <td>moderna</td>\n",
       "    </tr>\n",
       "    <tr>\n",
       "      <th>3</th>\n",
       "      <td>2612876733188800864</td>\n",
       "      <td>It’s Time to Trust China’s and Russia’s Vaccines</td>\n",
       "      <td>They, too, work, and they can help fill shorta...</td>\n",
       "      <td>By Achal Prabhala and Chee Yoke Ling</td>\n",
       "      <td>The New York Times</td>\n",
       "      <td>2021-02-05T10:00:58+0000</td>\n",
       "      <td>https://www.nytimes.com/2021/02/05/opinion/cov...</td>\n",
       "      <td>moderna</td>\n",
       "    </tr>\n",
       "    <tr>\n",
       "      <th>4</th>\n",
       "      <td>-3252507377201141967</td>\n",
       "      <td>Russian Campaign Promotes Homegrown Vaccine an...</td>\n",
       "      <td>Russian news outlets with connections to the K...</td>\n",
       "      <td>By Sheera Frenkel, Maria Abi-Habib and Julian ...</td>\n",
       "      <td>The New York Times</td>\n",
       "      <td>2021-02-05T16:09:45+0000</td>\n",
       "      <td>https://www.nytimes.com/2021/02/05/technology/...</td>\n",
       "      <td>moderna</td>\n",
       "    </tr>\n",
       "  </tbody>\n",
       "</table>\n",
       "</div>"
      ],
      "text/plain": [
       "            article_id                                              title  \\\n",
       "0 -6606275897906588298  Three Men Are Accused in Scheme to Sell Covid-...   \n",
       "1  -759365642050973959  Covid Vaccines for Kids Are Coming, but Not fo...   \n",
       "2 -7222055656088273670  Where Do Vaccine Doses Go, and Who Gets Them? ...   \n",
       "3  2612876733188800864   It’s Time to Trust China’s and Russia’s Vaccines   \n",
       "4 -3252507377201141967  Russian Campaign Promotes Homegrown Vaccine an...   \n",
       "\n",
       "                                            abstract  \\\n",
       "0  Prosecutors said the men created a fake duplic...   \n",
       "1  Pfizer and Moderna are testing their vaccines ...   \n",
       "2  Health agencies and hospitals are using differ...   \n",
       "3  They, too, work, and they can help fill shorta...   \n",
       "4  Russian news outlets with connections to the K...   \n",
       "\n",
       "                                              author              source  \\\n",
       "0                              By Concepción de León  The New York Times   \n",
       "1                              By Apoorva Mandavilli  The New York Times   \n",
       "2                                  By Natasha Singer  The New York Times   \n",
       "3               By Achal Prabhala and Chee Yoke Ling  The New York Times   \n",
       "4  By Sheera Frenkel, Maria Abi-Habib and Julian ...  The New York Times   \n",
       "\n",
       "                 time_stamp  \\\n",
       "0  2021-02-12T22:09:48+0000   \n",
       "1  2021-02-12T10:00:21+0000   \n",
       "2  2021-02-07T19:37:49+0000   \n",
       "3  2021-02-05T10:00:58+0000   \n",
       "4  2021-02-05T16:09:45+0000   \n",
       "\n",
       "                                                link    query  \n",
       "0  https://www.nytimes.com/2021/02/12/us/baltimor...  moderna  \n",
       "1  https://www.nytimes.com/2021/02/12/health/covi...  moderna  \n",
       "2  https://www.nytimes.com/2021/02/07/technology/...  moderna  \n",
       "3  https://www.nytimes.com/2021/02/05/opinion/cov...  moderna  \n",
       "4  https://www.nytimes.com/2021/02/05/technology/...  moderna  "
      ]
     },
     "execution_count": 4,
     "metadata": {},
     "output_type": "execute_result"
    }
   ],
   "source": [
    "data.head()"
   ]
  },
  {
   "cell_type": "code",
   "execution_count": 27,
   "id": "lasting-humanitarian",
   "metadata": {},
   "outputs": [
    {
     "name": "stdout",
     "output_type": "stream",
     "text": [
      "Time for computting embeddings:7.246684551239014\n"
     ]
    }
   ],
   "source": [
    "# Vectorizing \n",
    "roberta = SentenceTransformer('stsb-roberta-base')\n",
    "a = [x + ': ' + y for x,y in zip(data['title'][0:100], data['abstract'][0:100])]\n",
    "v = utils.encode(a, roberta)"
   ]
  },
  {
   "cell_type": "code",
   "execution_count": 28,
   "id": "extensive-prototype",
   "metadata": {},
   "outputs": [],
   "source": [
    "# Retrieving related articles "
   ]
  },
  {
   "cell_type": "code",
   "execution_count": 29,
   "id": "legendary-bleeding",
   "metadata": {},
   "outputs": [],
   "source": [
    "# Creating the graph\n",
    "import networkx as nx\n",
    "\n",
    "G = nx.Graph()"
   ]
  },
  {
   "cell_type": "code",
   "execution_count": 30,
   "id": "polished-dairy",
   "metadata": {},
   "outputs": [],
   "source": [
    "G.clear()\n",
    "for root, v0 in zip(data['title'], v):\n",
    "    for comp, v1 in zip(data['title'], v):\n",
    "        if utils.doc_sim(v0,v1) > .5:\n",
    "            G.add_edge(root, comp, weight=utils.doc_sim(v0,v1))"
   ]
  },
  {
   "cell_type": "code",
   "execution_count": 31,
   "id": "controversial-worth",
   "metadata": {},
   "outputs": [
    {
     "data": {
      "image/png": "[encoded data removed]",
      "text/plain": [
       "<Figure size 432x288 with 1 Axes>"
      ]
     },
     "metadata": {},
     "output_type": "display_data"
    }
   ],
   "source": [
    "nx.draw(G)"
   ]
  },
  {
   "cell_type": "code",
   "execution_count": 32,
   "id": "hindu-buddy",
   "metadata": {},
   "outputs": [],
   "source": [
    "from networkx.algorithms import community\n",
    "from networkx import edge_betweenness_centrality as betweenness\n",
    "\n",
    "def most_central_edge(G):\n",
    "\n",
    "    centrality = betweenness(G, weight=\"weight\")\n",
    "\n",
    "    return max(centrality, key=centrality.get)\n",
    "\n",
    "comp = community.girvan_newman(G, most_valuable_edge=most_central_edge)\n",
    "\n",
    "communities =tuple(sorted(c) for c in next(comp))"
   ]
  },
  {
   "cell_type": "code",
   "execution_count": 33,
   "id": "loose-sustainability",
   "metadata": {},
   "outputs": [],
   "source": [
    "# Extracting full articles from communities\n",
    "cdf = []\n",
    "for com in communities:\n",
    "    df = pd.DataFrame()\n",
    "    for art in com:\n",
    "        x = data.loc[data['title'] == art]\n",
    "        df = df.append(x)\n",
    "    cdf.append(df)"
   ]
  },
  {
   "cell_type": "code",
   "execution_count": 34,
   "id": "cooperative-singapore",
   "metadata": {},
   "outputs": [],
   "source": [
    "# Reducing each community down to an article \n",
    "min_coms = [] \n",
    "for com in cdf:\n",
    "    min_time = min(com['time_stamp'])\n",
    "    df = pd.DataFrame()\n",
    "    df = df.append(com.loc[com['time_stamp'] == min_time])\n",
    "    min_coms.append(df)"
   ]
  },
  {
   "cell_type": "code",
   "execution_count": 35,
   "id": "fancy-korean",
   "metadata": {},
   "outputs": [],
   "source": [
    "el = nx.Graph()\n",
    "el.clear()\n",
    "\n",
    "# Generating Lv and Huang graph \n",
    "lv = sorted([(x,list(x['time_stamp'])) for x in min_coms], key = lambda x: x[1])\n",
    "lv = [x[0] for x in lv]\n",
    "for i in range(1, len(lv)):\n",
    "    el.add_edge(str(lv[i-1]['title']), str(lv[i]['title']))"
   ]
  },
  {
   "cell_type": "code",
   "execution_count": 36,
   "id": "residential-multimedia",
   "metadata": {},
   "outputs": [
    {
     "data": {
      "image/png": "[encoded data removed]",
      "text/plain": [
       "<Figure size 432x288 with 1 Axes>"
      ]
     },
     "metadata": {},
     "output_type": "display_data"
    }
   ],
   "source": [
    "# Drawing the graph \n",
    "%matplotlib inline\n",
    "nx.draw_kamada_kawai(el, with_labels=True)"
   ]
  },
  {
   "cell_type": "code",
   "execution_count": 37,
   "id": "novel-graduation",
   "metadata": {},
   "outputs": [],
   "source": [
    "# Generating NewsChain event line \n",
    "\n",
    "# Defining similarity between sub-events \n",
    "# Similarity = avg_pairwise_eos \n",
    "# Rules for drawing edge, if sim > theta, draw directed edge based on min time \n",
    "el.clear()\n"
   ]
  },
  {
   "cell_type": "code",
   "execution_count": null,
   "id": "5e9ea239",
   "metadata": {},
   "outputs": [],
   "source": []
  }
 ],
 "metadata": {
  "kernelspec": {
   "display_name": "Python 3",
   "language": "python",
   "name": "python3"
  },
  "language_info": {
   "codemirror_mode": {
    "name": "ipython",
    "version": 3
   },
   "file_extension": ".py",
   "mimetype": "text/x-python",
   "name": "python",
   "nbconvert_exporter": "python",
   "pygments_lexer": "ipython3",
   "version": "3.9.1"
  }
 },
 "nbformat": 4,
 "nbformat_minor": 5
}
