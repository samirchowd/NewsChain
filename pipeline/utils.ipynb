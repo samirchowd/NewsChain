{
 "cells": [
  {
   "cell_type": "code",
   "execution_count": 1,
   "id": "provincial-mineral",
   "metadata": {},
   "outputs": [],
   "source": [
    "from sentence_transformers import SentenceTransformer\n",
    "sbert_model = SentenceTransformer('bert-base-nli-mean-tokens')"
   ]
  },
  {
   "cell_type": "code",
   "execution_count": 2,
   "id": "billion-driver",
   "metadata": {},
   "outputs": [
    {
     "data": {
      "text/plain": [
       "array([[0.7362274]], dtype=float32)"
      ]
     },
     "execution_count": 2,
     "metadata": {},
     "output_type": "execute_result"
    }
   ],
   "source": [
    "v = sbert_model.encode(['Donald trump goes to the mall.', 'Donald trump goes the white house', 'Samir went to the mall'])\n",
    "from sklearn.metrics.pairwise import cosine_similarity\n",
    "cosine_similarity(v[0].reshape(1,-1),v[2].reshape(1,-1))"
   ]
  },
  {
   "cell_type": "code",
   "execution_count": 3,
   "id": "intermediate-sixth",
   "metadata": {},
   "outputs": [],
   "source": [
    "import utils"
   ]
  },
  {
   "cell_type": "code",
   "execution_count": 4,
   "id": "olive-uruguay",
   "metadata": {},
   "outputs": [
    {
     "data": {
      "text/plain": [
       "0.6403947"
      ]
     },
     "execution_count": 4,
     "metadata": {},
     "output_type": "execute_result"
    }
   ],
   "source": [
    "bruh = utils.encode(['pog', 'champ'], sbert_model)\n",
    "utils.doc_sim(bruh[0], bruh[1])"
   ]
  },
  {
   "cell_type": "code",
   "execution_count": 5,
   "id": "everyday-target",
   "metadata": {},
   "outputs": [
    {
     "name": "stdout",
     "output_type": "stream",
     "text": [
      "United States 0 13 GPE\n"
     ]
    }
   ],
   "source": [
    "import spacy\n",
    "\n",
    "nlp = spacy.load(\"en_core_web_sm\")\n",
    "doc = nlp(\"United States has a new plan\")\n",
    "for ent in doc.ents:\n",
    "    print(ent.text, ent.start_char, ent.end_char, ent.label_)"
   ]
  },
  {
   "cell_type": "code",
   "execution_count": 6,
   "id": "stylish-white",
   "metadata": {},
   "outputs": [
    {
     "ename": "APIError",
     "evalue": "404",
     "output_type": "error",
     "traceback": [
      "\u001b[0;31m---------------------------------------------------------------------------\u001b[0m",
      "\u001b[0;31mAPIError\u001b[0m                                  Traceback (most recent call last)",
      "\u001b[0;32m<ipython-input-6-9a3d0c88d9fa>\u001b[0m in \u001b[0;36m<module>\u001b[0;34m\u001b[0m\n\u001b[0;32m----> 1\u001b[0;31m \u001b[0;32mfor\u001b[0m \u001b[0mi\u001b[0m \u001b[0;32min\u001b[0m \u001b[0mutils\u001b[0m\u001b[0;34m.\u001b[0m\u001b[0mget_entities\u001b[0m\u001b[0;34m(\u001b[0m\u001b[0;34m'I like United States has a dog'\u001b[0m\u001b[0;34m,\u001b[0m \u001b[0mnlp\u001b[0m\u001b[0;34m)\u001b[0m\u001b[0;34m:\u001b[0m\u001b[0;34m\u001b[0m\u001b[0;34m\u001b[0m\u001b[0m\n\u001b[0m\u001b[1;32m      2\u001b[0m     \u001b[0mprint\u001b[0m\u001b[0;34m(\u001b[0m\u001b[0mtype\u001b[0m\u001b[0;34m(\u001b[0m\u001b[0mi\u001b[0m\u001b[0;34m)\u001b[0m\u001b[0;34m)\u001b[0m\u001b[0;34m\u001b[0m\u001b[0;34m\u001b[0m\u001b[0m\n",
      "\u001b[0;32m~/Documents/repos/NewsChain/pipeline/utils.py\u001b[0m in \u001b[0;36mget_entities\u001b[0;34m(text, conf)\u001b[0m\n\u001b[1;32m     57\u001b[0m     \u001b[0;32mif\u001b[0m \u001b[0mres\u001b[0m\u001b[0;34m.\u001b[0m\u001b[0mstatus_code\u001b[0m \u001b[0;34m!=\u001b[0m \u001b[0;36m200\u001b[0m\u001b[0;34m:\u001b[0m\u001b[0;34m\u001b[0m\u001b[0;34m\u001b[0m\u001b[0m\n\u001b[1;32m     58\u001b[0m         \u001b[0;31m# Something went wrong\u001b[0m\u001b[0;34m\u001b[0m\u001b[0;34m\u001b[0m\u001b[0;34m\u001b[0m\u001b[0m\n\u001b[0;32m---> 59\u001b[0;31m         \u001b[0;32mraise\u001b[0m \u001b[0mAPIError\u001b[0m\u001b[0;34m(\u001b[0m\u001b[0mres\u001b[0m\u001b[0;34m.\u001b[0m\u001b[0mstatus_code\u001b[0m\u001b[0;34m)\u001b[0m\u001b[0;31m# Display the result as HTML in Jupyter Notebook\u001b[0m\u001b[0;34m\u001b[0m\u001b[0;34m\u001b[0m\u001b[0m\n\u001b[0m\u001b[1;32m     60\u001b[0m     \u001b[0;32mreturn\u001b[0m \u001b[0mres\u001b[0m\u001b[0;34m\u001b[0m\u001b[0;34m\u001b[0m\u001b[0m\n\u001b[1;32m     61\u001b[0m \u001b[0;34m\u001b[0m\u001b[0m\n",
      "\u001b[0;31mAPIError\u001b[0m: 404"
     ]
    }
   ],
   "source": []
  },
  {
   "cell_type": "code",
   "execution_count": 7,
   "id": "productive-methodology",
   "metadata": {},
   "outputs": [
    {
     "name": "stdout",
     "output_type": "stream",
     "text": [
      "U.S. 0 4 GPE\n"
     ]
    }
   ],
   "source": [
    "doc = nlp(\"U.S. has a new plan\")\n",
    "for ent in doc.ents:\n",
    "    print(ent.text, ent.start_char, ent.end_char, ent.label_)"
   ]
  },
  {
   "cell_type": "code",
   "execution_count": 8,
   "id": "cordless-income",
   "metadata": {},
   "outputs": [],
   "source": [
    "import requests\n",
    "from IPython.core.display import display, HTML# An API Error Exception\n",
    "class APIError(Exception):\n",
    "    def __init__(self, status):\n",
    "        self.status = status\n",
    "        def __str__(self):\n",
    "            return \"APIError: status={}\".format(self.status)\n",
    "      \n",
    "# Base URL for Spotlight API\n",
    "base_url = \"http://api.dbpedia-spotlight.org/en/annotate\"# Parameters \n",
    "# 'text' - text to be annotated \n",
    "# 'confidence' -   confidence score for linking\n",
    "params = {\"text\": \"United States is a great place. I can't wait to go to the U.S.. and Hassan goes to Korea!\", \"confidence\": 0.35}# Response content type\n",
    "headers = {'accept': 'application/json'}# GET Request\n",
    "res = requests.get(base_url, params=params, headers=headers)\n",
    "if res.status_code != 200:\n",
    "    # Something went wrong\n",
    "    raise APIError(res.status_code)# Display the result as HTML in Jupyter Notebook"
   ]
  },
  {
   "cell_type": "code",
   "execution_count": 9,
   "id": "narrative-hotel",
   "metadata": {},
   "outputs": [],
   "source": [
    "import json \n",
    "bruh = json.loads(res.content)"
   ]
  },
  {
   "cell_type": "code",
   "execution_count": 10,
   "id": "supreme-nicaragua",
   "metadata": {},
   "outputs": [
    {
     "data": {
      "text/plain": [
       "['http://dbpedia.org/resource/United_States',\n",
       " 'http://dbpedia.org/resource/United_States',\n",
       " 'http://dbpedia.org/resource/Hassan_district',\n",
       " 'http://dbpedia.org/resource/Korea']"
      ]
     },
     "execution_count": 10,
     "metadata": {},
     "output_type": "execute_result"
    }
   ],
   "source": [
    "[x['@URI'] for x in bruh['Resources']]"
   ]
  },
  {
   "cell_type": "code",
   "execution_count": 11,
   "id": "restricted-diagram",
   "metadata": {},
   "outputs": [
    {
     "data": {
      "text/plain": [
       "{'@text': \"United States is a great place. I can't wait to go to the U.S.. and Hassan goes to Korea!\",\n",
       " '@confidence': '0.35',\n",
       " '@support': '0',\n",
       " '@types': '',\n",
       " '@sparql': '',\n",
       " '@policy': 'whitelist',\n",
       " 'Resources': [{'@URI': 'http://dbpedia.org/resource/United_States',\n",
       "   '@support': '553243',\n",
       "   '@types': 'Wikidata:Q6256,Schema:Place,Schema:Country,DBpedia:PopulatedPlace,DBpedia:Place,DBpedia:Location,DBpedia:Country',\n",
       "   '@surfaceForm': 'United States',\n",
       "   '@offset': '0',\n",
       "   '@similarityScore': '0.9998417665649543',\n",
       "   '@percentageOfSecondRank': '1.13908573273379E-4'},\n",
       "  {'@URI': 'http://dbpedia.org/resource/United_States',\n",
       "   '@support': '553243',\n",
       "   '@types': 'Wikidata:Q6256,Schema:Place,Schema:Country,DBpedia:PopulatedPlace,DBpedia:Place,DBpedia:Location,DBpedia:Country',\n",
       "   '@surfaceForm': 'U.S.',\n",
       "   '@offset': '58',\n",
       "   '@similarityScore': '0.9976911595521537',\n",
       "   '@percentageOfSecondRank': '8.823651168832189E-4'},\n",
       "  {'@URI': 'http://dbpedia.org/resource/Hassan_district',\n",
       "   '@support': '368',\n",
       "   '@types': 'Wikidata:Q3455524,Schema:Place,Schema:AdministrativeArea,DBpedia:Region,DBpedia:PopulatedPlace,DBpedia:Place,DBpedia:Location,DBpedia:AdministrativeRegion',\n",
       "   '@surfaceForm': 'Hassan',\n",
       "   '@offset': '68',\n",
       "   '@similarityScore': '0.9307526204932283',\n",
       "   '@percentageOfSecondRank': '0.05306511233857895'},\n",
       "  {'@URI': 'http://dbpedia.org/resource/Korea',\n",
       "   '@support': '30304',\n",
       "   '@types': 'Wikidata:Q6256,Schema:Place,Schema:Country,DBpedia:PopulatedPlace,DBpedia:Place,DBpedia:Location,DBpedia:Country',\n",
       "   '@surfaceForm': 'Korea',\n",
       "   '@offset': '83',\n",
       "   '@similarityScore': '0.9732558528107504',\n",
       "   '@percentageOfSecondRank': '0.01935716841618511'}]}"
      ]
     },
     "execution_count": 11,
     "metadata": {},
     "output_type": "execute_result"
    }
   ],
   "source": [
    "bruh"
   ]
  }
 ],
 "metadata": {
  "kernelspec": {
   "display_name": "Python 3",
   "language": "python",
   "name": "python3"
  },
  "language_info": {
   "codemirror_mode": {
    "name": "ipython",
    "version": 3
   },
   "file_extension": ".py",
   "mimetype": "text/x-python",
   "name": "python",
   "nbconvert_exporter": "python",
   "pygments_lexer": "ipython3",
   "version": "3.9.1"
  }
 },
 "nbformat": 4,
 "nbformat_minor": 5
}
