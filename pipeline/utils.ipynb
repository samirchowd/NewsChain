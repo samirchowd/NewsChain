{
 "cells": [
  {
   "cell_type": "code",
   "execution_count": null,
   "id": "biblical-designation",
   "metadata": {},
   "outputs": [],
   "source": [
    "from sentence_transformers import SentenceTransformer\n",
    "sbert_model = SentenceTransformer('bert-base-nli-mean-tokens')"
   ]
  },
  {
   "cell_type": "code",
   "execution_count": null,
   "id": "neutral-comfort",
   "metadata": {},
   "outputs": [],
   "source": [
    "v = sbert_model.encode(['Donald trump goes to the mall.', 'Donald trump goes the white house', 'Samir went to the mall'])\n",
    "from sklearn.metrics.pairwise import cosine_similarity\n",
    "cosine_similarity(v[0].reshape(1,-1),v[2].reshape(1,-1))"
   ]
  },
  {
   "cell_type": "code",
   "execution_count": null,
   "id": "decent-cycle",
   "metadata": {},
   "outputs": [],
   "source": [
    "import utils"
   ]
  },
  {
   "cell_type": "code",
   "execution_count": null,
   "id": "expensive-magic",
   "metadata": {},
   "outputs": [],
   "source": [
    "bruh = utils.encode(['pog', 'champ'], sbert_model)\n",
    "utils.doc_sim(bruh[0], bruh[1])"
   ]
  },
  {
   "cell_type": "code",
   "execution_count": 12,
   "id": "appreciated-classic",
   "metadata": {},
   "outputs": [
    {
     "name": "stdout",
     "output_type": "stream",
     "text": [
      "United States 0 13 GPE\n"
     ]
    }
   ],
   "source": [
    "import spacy\n",
    "\n",
    "nlp = spacy.load(\"en_core_web_sm\")\n",
    "doc = nlp(\"United States has a new plan\")\n",
    "for ent in doc.ents:\n",
    "    print(ent.text, ent.start_char, ent.end_char, ent.label_)"
   ]
  },
  {
   "cell_type": "code",
   "execution_count": null,
   "id": "democratic-stage",
   "metadata": {},
   "outputs": [],
   "source": [
    "for i in utils.get_entities('I like United States has a dog', nlp):\n",
    "    print(type(i))"
   ]
  },
  {
   "cell_type": "code",
   "execution_count": null,
   "id": "secondary-whole",
   "metadata": {},
   "outputs": [],
   "source": [
    "doc = nlp(\"U.S. has a new plan\")\n",
    "for ent in doc.ents:\n",
    "    print(ent.text, ent.start_char, ent.end_char, ent.label_)"
   ]
  },
  {
   "cell_type": "code",
   "execution_count": 17,
   "id": "finnish-costume",
   "metadata": {},
   "outputs": [],
   "source": [
    "import requests\n",
    "from IPython.core.display import display, HTML# An API Error Exception\n",
    "class APIError(Exception):\n",
    "    def __init__(self, status):\n",
    "        self.status = status\n",
    "        def __str__(self):\n",
    "            return \"APIError: status={}\".format(self.status)\n",
    "      \n",
    "# Base URL for Spotlight API\n",
    "base_url = \"http://api.dbpedia-spotlight.org/en/annotate\"# Parameters \n",
    "# 'text' - text to be annotated \n",
    "# 'confidence' -   confidence score for linking\n",
    "params = {\"text\": \"United States is a great place. I can't wait to go to the U.S.. and Hassan goes to Korea!\", \"confidence\": 0.35}# Response content type\n",
    "headers = {'accept': 'application/json'}# GET Request\n",
    "res = requests.get(base_url, params=params, headers=headers)\n",
    "if res.status_code != 200:\n",
    "    # Something went wrong\n",
    "    raise APIError(res.status_code)# Display the result as HTML in Jupyter Notebook"
   ]
  },
  {
   "cell_type": "code",
   "execution_count": 23,
   "id": "congressional-poland",
   "metadata": {},
   "outputs": [],
   "source": [
    "import json \n",
    "bruh = json.loads(res.content)"
   ]
  },
  {
   "cell_type": "code",
   "execution_count": 31,
   "id": "reserved-tennessee",
   "metadata": {},
   "outputs": [
    {
     "data": {
      "text/plain": [
       "['http://dbpedia.org/resource/United_States',\n",
       " 'http://dbpedia.org/resource/United_States',\n",
       " 'http://dbpedia.org/resource/Hassan_district',\n",
       " 'http://dbpedia.org/resource/Korea']"
      ]
     },
     "execution_count": 31,
     "metadata": {},
     "output_type": "execute_result"
    }
   ],
   "source": [
    "[x['@URI'] for x in bruh['Resources']]"
   ]
  },
  {
   "cell_type": "code",
   "execution_count": null,
   "id": "grave-accounting",
   "metadata": {},
   "outputs": [],
   "source": []
  }
 ],
 "metadata": {
  "kernelspec": {
   "display_name": "Python 3",
   "language": "python",
   "name": "python3"
  },
  "language_info": {
   "codemirror_mode": {
    "name": "ipython",
    "version": 3
   },
   "file_extension": ".py",
   "mimetype": "text/x-python",
   "name": "python",
   "nbconvert_exporter": "python",
   "pygments_lexer": "ipython3",
   "version": "3.9.1"
  }
 },
 "nbformat": 4,
 "nbformat_minor": 5
}
