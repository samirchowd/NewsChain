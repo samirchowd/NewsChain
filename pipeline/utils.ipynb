{
 "cells": [
  {
   "cell_type": "code",
   "execution_count": 6,
   "id": "opening-water",
   "metadata": {},
   "outputs": [],
   "source": [
    "from sentence_transformers import SentenceTransformer\n",
    "sbert_model = SentenceTransformer('bert-base-nli-mean-tokens')"
   ]
  },
  {
   "cell_type": "code",
   "execution_count": 7,
   "id": "isolated-kenya",
   "metadata": {},
   "outputs": [
    {
     "data": {
      "text/plain": [
       "array([[0.7362275]], dtype=float32)"
      ]
     },
     "execution_count": 7,
     "metadata": {},
     "output_type": "execute_result"
    }
   ],
   "source": [
    "v = sbert_model.encode(['Donald trump goes to the mall.', 'Donald trump goes the white house', 'Samir went to the mall'])\n",
    "from sklearn.metrics.pairwise import cosine_similarity\n",
    "cosine_similarity(v[0].reshape(1,-1),v[2].reshape(1,-1))"
   ]
  },
  {
   "cell_type": "code",
   "execution_count": 8,
   "id": "comparable-habitat",
   "metadata": {},
   "outputs": [],
   "source": [
    "import utils"
   ]
  },
  {
   "cell_type": "code",
   "execution_count": 11,
   "id": "employed-geography",
   "metadata": {},
   "outputs": [
    {
     "name": "stdout",
     "output_type": "stream",
     "text": [
      "Time for computting embeddings:0.05198216438293457\n"
     ]
    },
    {
     "data": {
      "text/plain": [
       "0.6403947"
      ]
     },
     "execution_count": 11,
     "metadata": {},
     "output_type": "execute_result"
    }
   ],
   "source": [
    "bruh = utils.encode(['pog', 'champ'], sbert_model)\n",
    "utils.doc_sim(bruh[0], bruh[1])"
   ]
  },
  {
   "cell_type": "code",
   "execution_count": 13,
   "id": "substantial-timing",
   "metadata": {},
   "outputs": [
    {
     "name": "stdout",
     "output_type": "stream",
     "text": [
      "United States 0 13 GPE\n"
     ]
    }
   ],
   "source": [
    "import spacy\n",
    "\n",
    "nlp = spacy.load(\"en_core_web_sm\")\n",
    "doc = nlp(\"United States has a new plan\")\n",
    "for ent in doc.ents:\n",
    "    print(ent.text, ent.start_char, ent.end_char, ent.label_)"
   ]
  },
  {
   "cell_type": "code",
   "execution_count": null,
   "id": "given-equipment",
   "metadata": {},
   "outputs": [],
   "source": []
  },
  {
   "cell_type": "code",
   "execution_count": 14,
   "id": "final-leather",
   "metadata": {},
   "outputs": [
    {
     "name": "stdout",
     "output_type": "stream",
     "text": [
      "U.S. 0 4 GPE\n"
     ]
    }
   ],
   "source": [
    "doc = nlp(\"U.S. has a new plan\")\n",
    "for ent in doc.ents:\n",
    "    print(ent.text, ent.start_char, ent.end_char, ent.label_)"
   ]
  },
  {
   "cell_type": "code",
   "execution_count": 21,
   "id": "universal-disabled",
   "metadata": {},
   "outputs": [],
   "source": [
    "text = \"United States is a great place. I can't wait to go to the U.S.. and Hassan goes to Korea!\"\n",
    "confidence = 0.35\n",
    "\n",
    "def get_ents(text, confidence= 0.35):\n",
    "    import requests\n",
    "    from IPython.core.display import display, HTML# An API Error Exception\n",
    "    class APIError(Exception):\n",
    "        def __init__(self, status):\n",
    "            self.status = status\n",
    "            def __str__(self):\n",
    "                return \"APIError: status={}\".format(self.status)\n",
    "\n",
    "    # Base URL for Spotlight API\n",
    "    base_url = \"http://api.dbpedia-spotlight.org/en/annotate\"# Parameters \n",
    "    # 'text' - text to be annotated \n",
    "    # 'confidence' -   confidence score for linking\n",
    "    params = {\"text\": text, \"confidence\": confidence}# Response content type\n",
    "    headers = {'accept': 'application/json'}# GET Request\n",
    "    res = requests.get(base_url, params=params, headers=headers)\n",
    "    if res.status_code != 200:\n",
    "        # Something went wrong\n",
    "        raise APIError(res.status_code)# Display the result as HTML in Jupyter Notebook\n",
    "    \n",
    "    import json \n",
    "    bruh = json.loads(res.content)\n",
    "    \n",
    "    return [x['@URI'] for x in bruh['Resources']]"
   ]
  },
  {
   "cell_type": "code",
   "execution_count": 46,
   "id": "floral-charles",
   "metadata": {},
   "outputs": [
    {
     "ename": "NameError",
     "evalue": "name 'res' is not defined",
     "output_type": "error",
     "traceback": [
      "\u001b[1;31m---------------------------------------------------------------------------\u001b[0m",
      "\u001b[1;31mNameError\u001b[0m                                 Traceback (most recent call last)",
      "\u001b[1;32m<ipython-input-46-2f12bd1764ec>\u001b[0m in \u001b[0;36m<module>\u001b[1;34m\u001b[0m\n\u001b[0;32m      1\u001b[0m \u001b[1;32mimport\u001b[0m \u001b[0mjson\u001b[0m\u001b[1;33m\u001b[0m\u001b[1;33m\u001b[0m\u001b[0m\n\u001b[1;32m----> 2\u001b[1;33m \u001b[0mbruh\u001b[0m \u001b[1;33m=\u001b[0m \u001b[0mjson\u001b[0m\u001b[1;33m.\u001b[0m\u001b[0mloads\u001b[0m\u001b[1;33m(\u001b[0m\u001b[0mres\u001b[0m\u001b[1;33m.\u001b[0m\u001b[0mcontent\u001b[0m\u001b[1;33m)\u001b[0m\u001b[1;33m\u001b[0m\u001b[1;33m\u001b[0m\u001b[0m\n\u001b[0m",
      "\u001b[1;31mNameError\u001b[0m: name 'res' is not defined"
     ]
    }
   ],
   "source": [
    "import json \n",
    "bruh = json.loads(res.content)"
   ]
  },
  {
   "cell_type": "code",
   "execution_count": 3,
   "id": "endangered-wedding",
   "metadata": {},
   "outputs": [
    {
     "ename": "NameError",
     "evalue": "name 'get_ents' is not defined",
     "output_type": "error",
     "traceback": [
      "\u001b[1;31m---------------------------------------------------------------------------\u001b[0m",
      "\u001b[1;31mNameError\u001b[0m                                 Traceback (most recent call last)",
      "\u001b[1;32m<ipython-input-3-f2b32b860e89>\u001b[0m in \u001b[0;36m<module>\u001b[1;34m\u001b[0m\n\u001b[1;32m----> 1\u001b[1;33m \u001b[0murl\u001b[0m \u001b[1;33m=\u001b[0m \u001b[0mget_ents\u001b[0m\u001b[1;33m(\u001b[0m\u001b[1;34m'evan went to the U.S. but actually ended up in Egypt! But instead, he is in Egypt!'\u001b[0m\u001b[1;33m)\u001b[0m\u001b[1;33m\u001b[0m\u001b[1;33m\u001b[0m\u001b[0m\n\u001b[0m\u001b[0;32m      2\u001b[0m \u001b[0mkeywords\u001b[0m \u001b[1;33m=\u001b[0m \u001b[1;33m[\u001b[0m\u001b[0murl\u001b[0m\u001b[1;33m[\u001b[0m\u001b[0mx\u001b[0m\u001b[1;33m]\u001b[0m\u001b[1;33m.\u001b[0m\u001b[0mrsplit\u001b[0m\u001b[1;33m(\u001b[0m\u001b[1;34m'/'\u001b[0m\u001b[1;33m,\u001b[0m \u001b[1;36m1\u001b[0m\u001b[1;33m)\u001b[0m\u001b[1;33m[\u001b[0m\u001b[1;33m-\u001b[0m\u001b[1;36m1\u001b[0m\u001b[1;33m]\u001b[0m \u001b[1;32mfor\u001b[0m \u001b[0mx\u001b[0m \u001b[1;32min\u001b[0m \u001b[0mrange\u001b[0m\u001b[1;33m(\u001b[0m\u001b[0mlen\u001b[0m\u001b[1;33m(\u001b[0m\u001b[0murl\u001b[0m\u001b[1;33m)\u001b[0m\u001b[1;33m)\u001b[0m\u001b[1;33m]\u001b[0m\u001b[1;33m\u001b[0m\u001b[1;33m\u001b[0m\u001b[0m\n\u001b[0;32m      3\u001b[0m \u001b[0mprint\u001b[0m\u001b[1;33m(\u001b[0m\u001b[0mkeywords\u001b[0m\u001b[1;33m)\u001b[0m\u001b[1;33m\u001b[0m\u001b[1;33m\u001b[0m\u001b[0m\n",
      "\u001b[1;31mNameError\u001b[0m: name 'get_ents' is not defined"
     ]
    }
   ],
   "source": [
    "url = get_ents('evan went to the U.S. but actually ended up in Egypt! But instead, he is in Egypt!')\n",
    "keywords = [url[x].rsplit('/', 1)[-1] for x in range(len(url))]\n",
    "print(keywords)"
   ]
  },
  {
   "cell_type": "code",
   "execution_count": 44,
   "id": "tutorial-credits",
   "metadata": {},
   "outputs": [
    {
     "ename": "IndexError",
     "evalue": "only integers, slices (`:`), ellipsis (`...`), numpy.newaxis (`None`) and integer or boolean arrays are valid indices",
     "output_type": "error",
     "traceback": [
      "\u001b[1;31m---------------------------------------------------------------------------\u001b[0m",
      "\u001b[1;31mIndexError\u001b[0m                                Traceback (most recent call last)",
      "\u001b[1;32m<ipython-input-44-b805c2d2acdf>\u001b[0m in \u001b[0;36m<module>\u001b[1;34m\u001b[0m\n\u001b[1;32m----> 1\u001b[1;33m \u001b[0mbruh\u001b[0m\u001b[1;33m[\u001b[0m\u001b[1;34m'Resources'\u001b[0m\u001b[1;33m]\u001b[0m\u001b[1;33m\u001b[0m\u001b[1;33m\u001b[0m\u001b[0m\n\u001b[0m",
      "\u001b[1;31mIndexError\u001b[0m: only integers, slices (`:`), ellipsis (`...`), numpy.newaxis (`None`) and integer or boolean arrays are valid indices"
     ]
    }
   ],
   "source": [
    "bruh['Resources']"
   ]
  },
  {
   "cell_type": "code",
   "execution_count": 11,
   "id": "chronic-enlargement",
   "metadata": {},
   "outputs": [],
   "source": [
    "import utils\n",
    "import numpy as np"
   ]
  },
  {
   "cell_type": "code",
   "execution_count": 12,
   "id": "wrapped-commonwealth",
   "metadata": {},
   "outputs": [],
   "source": [
    "sents = np.asarray(utils.toframe(utils.files, 'abstract'))"
   ]
  },
  {
   "cell_type": "code",
   "execution_count": 13,
   "id": "ambient-terrace",
   "metadata": {},
   "outputs": [],
   "source": [
    "from sentence_transformers import SentenceTransformer\n",
    "roberta = SentenceTransformer('stsb-roberta-base')"
   ]
  },
  {
   "cell_type": "code",
   "execution_count": 2,
   "id": "existing-belly",
   "metadata": {},
   "outputs": [
    {
     "ename": "NameError",
     "evalue": "name 'utils' is not defined",
     "output_type": "error",
     "traceback": [
      "\u001b[1;31m---------------------------------------------------------------------------\u001b[0m",
      "\u001b[1;31mNameError\u001b[0m                                 Traceback (most recent call last)",
      "\u001b[1;32m<ipython-input-2-44cd328b52b2>\u001b[0m in \u001b[0;36m<module>\u001b[1;34m\u001b[0m\n\u001b[1;32m----> 1\u001b[1;33m \u001b[0mdata\u001b[0m \u001b[1;33m=\u001b[0m \u001b[0mutils\u001b[0m\u001b[1;33m.\u001b[0m\u001b[0mtoframe\u001b[0m\u001b[1;33m(\u001b[0m\u001b[0mutils\u001b[0m\u001b[1;33m.\u001b[0m\u001b[0mfiles\u001b[0m\u001b[1;33m)\u001b[0m\u001b[1;33m\u001b[0m\u001b[1;33m\u001b[0m\u001b[0m\n\u001b[0m",
      "\u001b[1;31mNameError\u001b[0m: name 'utils' is not defined"
     ]
    }
   ],
   "source": [
    "data = utils.toframe(utils.files)"
   ]
  },
  {
   "cell_type": "code",
   "execution_count": 16,
   "id": "younger-shift",
   "metadata": {},
   "outputs": [],
   "source": [
    "bruh = np.asarray([x + ': ' + y for x in data['title'] for y in data['abstract']])"
   ]
  },
  {
   "cell_type": "code",
   "execution_count": 1,
   "id": "surrounded-society",
   "metadata": {},
   "outputs": [
    {
     "ename": "NameError",
     "evalue": "name 'data' is not defined",
     "output_type": "error",
     "traceback": [
      "\u001b[1;31m---------------------------------------------------------------------------\u001b[0m",
      "\u001b[1;31mNameError\u001b[0m                                 Traceback (most recent call last)",
      "\u001b[1;32m<ipython-input-1-099fad7a39dc>\u001b[0m in \u001b[0;36m<module>\u001b[1;34m\u001b[0m\n\u001b[1;32m----> 1\u001b[1;33m \u001b[0mdata\u001b[0m\u001b[1;33m[\u001b[0m\u001b[1;34m'abstract'\u001b[0m\u001b[1;33m]\u001b[0m\u001b[1;33m[\u001b[0m\u001b[1;36m1\u001b[0m\u001b[1;33m]\u001b[0m\u001b[1;33m\u001b[0m\u001b[1;33m\u001b[0m\u001b[0m\n\u001b[0m",
      "\u001b[1;31mNameError\u001b[0m: name 'data' is not defined"
     ]
    }
   ],
   "source": [
    "data['abstract'][1]"
   ]
  },
  {
   "cell_type": "code",
   "execution_count": 81,
   "id": "fixed-vermont",
   "metadata": {},
   "outputs": [
    {
     "name": "stdout",
     "output_type": "stream",
     "text": [
      "Time for computting embeddings:19.338665008544922\n"
     ]
    },
    {
     "data": {
      "text/plain": [
       "array([[-0.6797897 ,  0.06589492,  0.25755557, ...,  0.0752292 ,\n",
       "         0.02665337, -0.85642666],\n",
       "       [-0.2251951 , -0.06032951,  0.04158211, ...,  0.26207143,\n",
       "         0.15024039,  0.9109204 ],\n",
       "       [-0.25941703,  0.5479238 , -0.1472992 , ..., -1.1424369 ,\n",
       "        -0.05617421, -0.38133818],\n",
       "       ...,\n",
       "       [-0.5964135 ,  0.5153714 ,  0.22639115, ..., -0.21356805,\n",
       "         0.5290443 , -0.5277692 ],\n",
       "       [-0.6329126 ,  0.10275344, -0.4370569 , ...,  0.12517379,\n",
       "        -0.07337758,  0.7340267 ],\n",
       "       [-1.1787928 , -0.32212064, -0.15543975, ..., -0.591952  ,\n",
       "         0.60771424, -0.8253808 ]], dtype=float32)"
      ]
     },
     "execution_count": 81,
     "metadata": {},
     "output_type": "execute_result"
    }
   ],
   "source": [
    "utils.encode(np.asarray(data['abstract'])[0:100],roberta)"
   ]
  }
 ],
 "metadata": {
  "kernelspec": {
   "display_name": "Python 3",
   "language": "python",
   "name": "python3"
  },
  "language_info": {
   "codemirror_mode": {
    "name": "ipython",
    "version": 3
   },
   "file_extension": ".py",
   "mimetype": "text/x-python",
   "name": "python",
   "nbconvert_exporter": "python",
   "pygments_lexer": "ipython3",
   "version": "3.9.1"
  }
 },
 "nbformat": 4,
 "nbformat_minor": 5
}
