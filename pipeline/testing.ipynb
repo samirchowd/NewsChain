{
 "cells": [
  {
   "cell_type": "code",
   "execution_count": 21,
   "id": "5ae00da2",
   "metadata": {},
   "outputs": [],
   "source": [
    "# utils.py\n",
    "# Class containing code for all utility functions \n",
    "import utils\n",
    "import numpy as np\n",
    "from sentence_transformers import SentenceTransformer, util\n",
    "from sklearn.metrics.pairwise import cosine_similarity\n",
    "from sklearn.feature_extraction.text import TfidfVectorizer\n",
    "import spacy\n",
    "import pandas as pd\n",
    "import glob as g\n",
    "import time\n",
    "import matplotlib as mpl\n",
    "import matplotlib.pyplot as plt\n",
    "from scipy import spatial\n",
    "\n",
    "files = g.glob(\"../DataBase/data/*.csv\")"
   ]
  },
  {
   "cell_type": "code",
   "execution_count": 6,
   "id": "1510a333",
   "metadata": {},
   "outputs": [],
   "source": [
    "def toframe(files, attribute=None, query=None):\n",
    "    \"\"\"Generate pandas data frame from article csv\n",
    "    Positional Arguments:\n",
    "    files -- file path for article csv's\n",
    "    Valid queries: 'pfizer', 'moderna', 'Johnson and Johnson', 'Johnson', 'Johnson & Johnson', 'covid', 'coronavirus', 'vaccine', 'covid 19'\n",
    "    \"\"\"\n",
    "\n",
    "    col_names = ['title', 'abstract', 'author', 'source', 'time_stamp', 'link', 'query']\n",
    "    articles = []\n",
    "    for filename in files:\n",
    "        articles.append(pd.read_csv(filename, names=col_names))\n",
    "\n",
    "    article_frame = pd.concat(articles, ignore_index=True)\n",
    "    article_frame.drop_duplicates(['title'], inplace=True)\n",
    "\n",
    "    # hash function to generate article id. Uses link, because it is a unique value for each article\n",
    "    key_vals = []\n",
    "    for i, row in article_frame.iterrows():\n",
    "        key = hash(row['link'])\n",
    "        if key not in key_vals:\n",
    "            key_vals.append(key)\n",
    "        else:\n",
    "            key = hash(row['title'])\n",
    "            if key not in key_vals:\n",
    "                key_vals.append(key)\n",
    "\n",
    "    article_frame.insert(loc=0, column='article_id', value=key_vals)\n",
    "    af = article_frame.dropna()\n",
    "\n",
    "    if attribute is not None and query is not None:\n",
    "        query_frame = af[af['query'].astype(str).str.contains(query)]\n",
    "        sentenceList = query_frame[attribute].tolist()\n",
    "        return sentenceList\n",
    "    elif attribute is not None:\n",
    "        sentenceList = af[attribute].tolist()\n",
    "        return sentenceList\n",
    "    elif query is not None:\n",
    "        temp_list = list()\n",
    "        fl = []\n",
    "        query_frame = af[af['query'].str.contains(query)]\n",
    "        for col in query_frame:\n",
    "            temp_list = article_frame[col].tolist()\n",
    "            fl.append(temp_list)\n",
    "        return fl\n",
    "    else:\n",
    "        return af"
   ]
  },
  {
   "cell_type": "code",
   "execution_count": 7,
   "id": "9928b06b",
   "metadata": {},
   "outputs": [],
   "source": [
    "def encode(text, model, max_seq_length = 300):\n",
    "    \"\"\"Encode a set of text given an encoding model\n",
    "\n",
    "    Positional Arguments:\n",
    "    text -- set of articles to be encoded\n",
    "    model -- model generated from sentence_transformers\n",
    "    a fixed-sized output representation (vector u) accomplished by pooling\n",
    "    \"\"\"\n",
    "    start_time = time.time()\n",
    "    model.max_seq_length = max_seq_length \n",
    "    sentence_embedding = model.encode(text)\n",
    "    end_time = time.time()\n",
    "    print(\"Time for computting embeddings:\" + str(end_time - start_time))\n",
    "    return sentence_embedding"
   ]
  },
  {
   "cell_type": "code",
   "execution_count": 8,
   "id": "227535e4",
   "metadata": {},
   "outputs": [],
   "source": [
    "def doc_sim(v1, v2):\n",
    "    \"\"\"Find the similarity between two articles\n",
    "\n",
    "    Positional Arguments:\n",
    "    v1 -- vector pertaining to the first article\n",
    "    v2 -- vector pertaining to the second article\n",
    "    \"\"\"\n",
    "\n",
    "    return cosine_similarity(v1.reshape(1,-1),v2.reshape(1,-1))[0][0]"
   ]
  },
  {
   "cell_type": "code",
   "execution_count": 9,
   "id": "470e6a1c",
   "metadata": {},
   "outputs": [],
   "source": [
    "def ent_sim(a1, a2):\n",
    "    pass"
   ]
  },
  {
   "cell_type": "code",
   "execution_count": 10,
   "id": "4a757ef4",
   "metadata": {},
   "outputs": [],
   "source": [
    "def eos(doc_sim, ent_sim, alpha):\n",
    "    return (alpha*doc_sim) + ((1-alpha)*ent_sim)"
   ]
  },
  {
   "cell_type": "code",
   "execution_count": 117,
   "id": "400ecb63",
   "metadata": {},
   "outputs": [],
   "source": [
    "def get_ents(text, confidence= 0.35):\n",
    "    import requests\n",
    "    from IPython.core.display import display, HTML# An API Error Exception\n",
    "    class APIError(Exception):\n",
    "        def __init__(self, status):\n",
    "            self.status = status\n",
    "            def __str__(self):\n",
    "                return \"APIError: status={}\".format(self.status)\n",
    "\n",
    "    # Base URL for Spotlight API\n",
    "    base_url = \"http://api.dbpedia-spotlight.org/en/annotate\"# Parameters \n",
    "    # 'text' - text to be annotated \n",
    "    # 'confidence' -   confidence score for linking\n",
    "    params = {\"text\": text, \"confidence\": confidence}# Response content type\n",
    "    headers = {'accept': 'application/json'}# GET Request\n",
    "    res = requests.get(base_url, params=params, headers=headers)\n",
    "    if res.status_code != 200:\n",
    "        # Something went wrong\n",
    "        raise APIError(res.status_code)# Display the result as HTML in Jupyter Notebook\n",
    "    \n",
    "    import json \n",
    "    bruh = json.loads(res.content)\n",
    "    \n",
    "    try: \n",
    "        return set([x['@URI'] for x in bruh['Resources']])\n",
    "    except:\n",
    "        return set()"
   ]
  },
  {
   "cell_type": "code",
   "execution_count": 12,
   "id": "c0ed3996",
   "metadata": {},
   "outputs": [],
   "source": [
    "def cluster():\n",
    "    pass"
   ]
  },
  {
   "cell_type": "code",
   "execution_count": 18,
   "id": "e1fc8ceb",
   "metadata": {},
   "outputs": [],
   "source": [
    "#tuple = (title, abstract, author, source, date, URL, query)\n",
    "doc1 = ['Three Men Are Accused in Scheme to Sell Covid-19 Vaccines', 'Prosecutors said the men created a fake duplicate of the Moderna website to fraudulently sell doses of the vaccine, which they never had.', 'John', 'NY Times', 'april 23', 'sample_url', 'moderna']\n",
    "doc2 = ['title2', 'Four Men Are Talking About Covid-19 Vaccines', 'Jack', 'Washington Post', 'march 15', 'sample_url2', 'pfizer']"
   ]
  },
  {
   "cell_type": "code",
   "execution_count": 13,
   "id": "12dc1355",
   "metadata": {},
   "outputs": [],
   "source": [
    "def vectorize(dx):  # Modify this function\n",
    "    list_x = dx.split()\n",
    "    vx = np.array(list_x)\n",
    "\n",
    "    return vx"
   ]
  },
  {
   "cell_type": "code",
   "execution_count": 14,
   "id": "0f64e091",
   "metadata": {},
   "outputs": [],
   "source": [
    "def docSim(abstract_i, abstract_j):\n",
    "    roberta = SentenceTransformer('stsb-roberta-base')\n",
    "\n",
    "    vi = utils.encode(abstract_i, roberta)\n",
    "    vj = utils.encode(abstract_j, roberta)\n",
    "    cosine_similarity = 1 - spatial.distance.cosine(vi, vj)\n",
    "    return cosine_similarity"
   ]
  },
  {
   "cell_type": "code",
   "execution_count": 15,
   "id": "00d00d6a",
   "metadata": {},
   "outputs": [],
   "source": [
    "def knowledgeSim(abstract_i, abstract_j):\n",
    "    vi = vectorize(abstract_i)\n",
    "    vj = vectorize(abstract_j)\n",
    "    jaccard_similarity = spatial.distance.jaccard(vi, vj)\n",
    "    jaccard_distance = 1 - jaccard_similarity\n",
    "    return jaccard_distance"
   ]
  },
  {
   "cell_type": "code",
   "execution_count": 16,
   "id": "8a99958d",
   "metadata": {},
   "outputs": [],
   "source": [
    "def Compute_EOS(di, dj, alpha):  # di, dj are 7-tuples, whose 2nd element is abstract\n",
    "\n",
    "    doc_sim = docSim(di[1], dj[1])\n",
    "    knowledge_sim = knowledgeSim(di[1], dj[1])\n",
    "    eos = alpha * doc_sim + (1 - alpha) * knowledge_sim\n",
    "    return eos"
   ]
  },
  {
   "cell_type": "code",
   "execution_count": 19,
   "id": "b09d8e1c",
   "metadata": {},
   "outputs": [],
   "source": [
    "# vec1 = [0, 1, 7]\n",
    "# vec2 = [15, 6, 9]\n",
    "# print(docSim(vec1, vec2))\n",
    "#print(Compute_EOS(doc1, doc2, 0.3))"
   ]
  },
  {
   "cell_type": "code",
   "execution_count": 31,
   "id": "7829c8e0",
   "metadata": {},
   "outputs": [
    {
     "name": "stdout",
     "output_type": "stream",
     "text": [
      "Two new pieces of research add strong evidence to the case for giving just a single dose of the Pfizer vaccine to people who have antibodies against the virus.\n"
     ]
    }
   ],
   "source": [
    "if __name__ == '__main__':\n",
    "    data = utils.toframe(utils.files, 'abstract', 'pfizer')\n",
    "    print(data[0])"
   ]
  },
  {
   "cell_type": "code",
   "execution_count": 22,
   "id": "6961fda5",
   "metadata": {},
   "outputs": [
    {
     "name": "stdout",
     "output_type": "stream",
     "text": [
      "[[0.         0.         1.69314718 0.         0.         1.69314718\n",
      "  1.69314718 1.69314718 0.         1.69314718 0.         0.\n",
      "  0.         1.         0.         0.         0.        ]\n",
      " [0.         0.         0.         1.69314718 0.         1.69314718\n",
      "  0.         1.69314718 0.         0.         0.         2.38629436\n",
      "  0.         1.         2.38629436 0.         0.        ]\n",
      " [2.38629436 0.         0.         1.69314718 2.38629436 0.\n",
      "  0.         0.         0.         0.         0.         0.\n",
      "  0.         1.         0.         0.         0.        ]\n",
      " [0.         2.38629436 1.69314718 0.         0.         0.\n",
      "  1.69314718 0.         2.38629436 1.69314718 2.38629436 0.\n",
      "  2.38629436 1.         0.         2.38629436 2.38629436]]\n"
     ]
    }
   ],
   "source": [
    "sentences = [\n",
    "    'He is playing in the field.',\n",
    "    'He is running towards the football.',\n",
    "    'The football game ended.',\n",
    "    'It started raining while everyone was playing in the field.'\n",
    "]\n",
    "\n",
    "vectorizer = TfidfVectorizer(norm = False, smooth_idf = False)\n",
    "sentence_vectors = vectorizer.fit_transform(sentences)\n",
    "print(sentence_vectors.toarray())"
   ]
  },
  {
   "cell_type": "code",
   "execution_count": 36,
   "id": "2583d49e",
   "metadata": {},
   "outputs": [],
   "source": [
    "data = utils.toframe(utils.files)"
   ]
  },
  {
   "cell_type": "code",
   "execution_count": 37,
   "id": "57bf633b",
   "metadata": {},
   "outputs": [
    {
     "data": {
      "text/plain": [
       "'Three Men Are Accused in Scheme to Sell Covid-19 Vaccines'"
      ]
     },
     "execution_count": 37,
     "metadata": {},
     "output_type": "execute_result"
    }
   ],
   "source": [
    "data['title'][0]"
   ]
  },
  {
   "cell_type": "code",
   "execution_count": 41,
   "id": "285f2bc1",
   "metadata": {
    "scrolled": false
   },
   "outputs": [
    {
     "data": {
      "text/html": [
       "<div>\n",
       "<style scoped>\n",
       "    .dataframe tbody tr th:only-of-type {\n",
       "        vertical-align: middle;\n",
       "    }\n",
       "\n",
       "    .dataframe tbody tr th {\n",
       "        vertical-align: top;\n",
       "    }\n",
       "\n",
       "    .dataframe thead th {\n",
       "        text-align: right;\n",
       "    }\n",
       "</style>\n",
       "<table border=\"1\" class=\"dataframe\">\n",
       "  <thead>\n",
       "    <tr style=\"text-align: right;\">\n",
       "      <th></th>\n",
       "      <th>article_id</th>\n",
       "      <th>title</th>\n",
       "      <th>abstract</th>\n",
       "      <th>author</th>\n",
       "      <th>source</th>\n",
       "      <th>time_stamp</th>\n",
       "      <th>link</th>\n",
       "      <th>query</th>\n",
       "    </tr>\n",
       "  </thead>\n",
       "  <tbody>\n",
       "    <tr>\n",
       "      <th>0</th>\n",
       "      <td>1987704234591290295</td>\n",
       "      <td>Three Men Are Accused in Scheme to Sell Covid-...</td>\n",
       "      <td>Prosecutors said the men created a fake duplic...</td>\n",
       "      <td>By Concepción de León</td>\n",
       "      <td>The New York Times</td>\n",
       "      <td>2021-02-12T22:09:48+0000</td>\n",
       "      <td>https://www.nytimes.com/2021/02/12/us/baltimor...</td>\n",
       "      <td>moderna</td>\n",
       "    </tr>\n",
       "    <tr>\n",
       "      <th>1</th>\n",
       "      <td>-8259722555075809818</td>\n",
       "      <td>Covid Vaccines for Kids Are Coming, but Not fo...</td>\n",
       "      <td>Pfizer and Moderna are testing their vaccines ...</td>\n",
       "      <td>By Apoorva Mandavilli</td>\n",
       "      <td>The New York Times</td>\n",
       "      <td>2021-02-12T10:00:21+0000</td>\n",
       "      <td>https://www.nytimes.com/2021/02/12/health/covi...</td>\n",
       "      <td>moderna</td>\n",
       "    </tr>\n",
       "    <tr>\n",
       "      <th>2</th>\n",
       "      <td>-4410056933049431936</td>\n",
       "      <td>Where Do Vaccine Doses Go, and Who Gets Them? ...</td>\n",
       "      <td>Health agencies and hospitals are using differ...</td>\n",
       "      <td>By Natasha Singer</td>\n",
       "      <td>The New York Times</td>\n",
       "      <td>2021-02-07T19:37:49+0000</td>\n",
       "      <td>https://www.nytimes.com/2021/02/07/technology/...</td>\n",
       "      <td>moderna</td>\n",
       "    </tr>\n",
       "    <tr>\n",
       "      <th>3</th>\n",
       "      <td>-6485334848460497503</td>\n",
       "      <td>It’s Time to Trust China’s and Russia’s Vaccines</td>\n",
       "      <td>They, too, work, and they can help fill shorta...</td>\n",
       "      <td>By Achal Prabhala and Chee Yoke Ling</td>\n",
       "      <td>The New York Times</td>\n",
       "      <td>2021-02-05T10:00:58+0000</td>\n",
       "      <td>https://www.nytimes.com/2021/02/05/opinion/cov...</td>\n",
       "      <td>moderna</td>\n",
       "    </tr>\n",
       "    <tr>\n",
       "      <th>4</th>\n",
       "      <td>519476207371917269</td>\n",
       "      <td>Russian Campaign Promotes Homegrown Vaccine an...</td>\n",
       "      <td>Russian news outlets with connections to the K...</td>\n",
       "      <td>By Sheera Frenkel, Maria Abi-Habib and Julian ...</td>\n",
       "      <td>The New York Times</td>\n",
       "      <td>2021-02-05T16:09:45+0000</td>\n",
       "      <td>https://www.nytimes.com/2021/02/05/technology/...</td>\n",
       "      <td>moderna</td>\n",
       "    </tr>\n",
       "    <tr>\n",
       "      <th>...</th>\n",
       "      <td>...</td>\n",
       "      <td>...</td>\n",
       "      <td>...</td>\n",
       "      <td>...</td>\n",
       "      <td>...</td>\n",
       "      <td>...</td>\n",
       "      <td>...</td>\n",
       "      <td>...</td>\n",
       "    </tr>\n",
       "    <tr>\n",
       "      <th>4148</th>\n",
       "      <td>-3288512819308595128</td>\n",
       "      <td>Juventus: De Ligt has COVID</td>\n",
       "      <td>Juventus have announced Matthijs de Ligt has t...</td>\n",
       "      <td>football-italia.net</td>\n",
       "      <td>2021-01-08T17:27:50.000000Z</td>\n",
       "      <td>https://www.football-italia.net/164525/juventu...</td>\n",
       "      <td>['sports']</td>\n",
       "      <td>covid</td>\n",
       "    </tr>\n",
       "    <tr>\n",
       "      <th>4149</th>\n",
       "      <td>1354707690989037941</td>\n",
       "      <td>Record Hospitalizations Limit U.S. COVID Response</td>\n",
       "      <td>Beds filled as new COVID-19 cases rose 20% acr...</td>\n",
       "      <td>webmd.com</td>\n",
       "      <td>2020-11-11T17:05:41.000000Z</td>\n",
       "      <td>https://www.webmd.com/lung/news/20201111/recor...</td>\n",
       "      <td>['health']</td>\n",
       "      <td>covid</td>\n",
       "    </tr>\n",
       "    <tr>\n",
       "      <th>4150</th>\n",
       "      <td>3296918486111389903</td>\n",
       "      <td>Hand Sanitizers | COVID-19</td>\n",
       "      <td>Help meet the increased demand for safe and ef...</td>\n",
       "      <td>fda.gov</td>\n",
       "      <td>2020-12-29T19:05:38.000000Z</td>\n",
       "      <td>https://www.fda.gov/drugs/coronavirus-covid-19...</td>\n",
       "      <td>['health']</td>\n",
       "      <td>covid</td>\n",
       "    </tr>\n",
       "    <tr>\n",
       "      <th>4152</th>\n",
       "      <td>-1633760270221848077</td>\n",
       "      <td>U.S. Reaches 500,000 Covid Deaths</td>\n",
       "      <td>In a single year, Covid-19 became a leading ca...</td>\n",
       "      <td>upstract.com</td>\n",
       "      <td>2021-02-23T00:08:00.000000Z</td>\n",
       "      <td>https://upstract.com/p/mk5g72g9?ref=rss&amp;rd=1</td>\n",
       "      <td>['entertainment', 'general']</td>\n",
       "      <td>covid</td>\n",
       "    </tr>\n",
       "    <tr>\n",
       "      <th>4153</th>\n",
       "      <td>8425162036137465515</td>\n",
       "      <td>covid-19: Face masks must even after Covid vac...</td>\n",
       "      <td>Taking the Covid-19 vaccine doesn’t mean one c...</td>\n",
       "      <td>health.economictimes.indiatimes.com</td>\n",
       "      <td>2020-12-11T05:34:00.000000Z</td>\n",
       "      <td>https://health.economictimes.indiatimes.com/ne...</td>\n",
       "      <td>['health']</td>\n",
       "      <td>covid</td>\n",
       "    </tr>\n",
       "  </tbody>\n",
       "</table>\n",
       "<p>2147 rows × 8 columns</p>\n",
       "</div>"
      ],
      "text/plain": [
       "               article_id                                              title  \\\n",
       "0     1987704234591290295  Three Men Are Accused in Scheme to Sell Covid-...   \n",
       "1    -8259722555075809818  Covid Vaccines for Kids Are Coming, but Not fo...   \n",
       "2    -4410056933049431936  Where Do Vaccine Doses Go, and Who Gets Them? ...   \n",
       "3    -6485334848460497503   It’s Time to Trust China’s and Russia’s Vaccines   \n",
       "4      519476207371917269  Russian Campaign Promotes Homegrown Vaccine an...   \n",
       "...                   ...                                                ...   \n",
       "4148 -3288512819308595128                        Juventus: De Ligt has COVID   \n",
       "4149  1354707690989037941  Record Hospitalizations Limit U.S. COVID Response   \n",
       "4150  3296918486111389903                         Hand Sanitizers | COVID-19   \n",
       "4152 -1633760270221848077                  U.S. Reaches 500,000 Covid Deaths   \n",
       "4153  8425162036137465515  covid-19: Face masks must even after Covid vac...   \n",
       "\n",
       "                                               abstract  \\\n",
       "0     Prosecutors said the men created a fake duplic...   \n",
       "1     Pfizer and Moderna are testing their vaccines ...   \n",
       "2     Health agencies and hospitals are using differ...   \n",
       "3     They, too, work, and they can help fill shorta...   \n",
       "4     Russian news outlets with connections to the K...   \n",
       "...                                                 ...   \n",
       "4148  Juventus have announced Matthijs de Ligt has t...   \n",
       "4149  Beds filled as new COVID-19 cases rose 20% acr...   \n",
       "4150  Help meet the increased demand for safe and ef...   \n",
       "4152  In a single year, Covid-19 became a leading ca...   \n",
       "4153  Taking the Covid-19 vaccine doesn’t mean one c...   \n",
       "\n",
       "                                                 author  \\\n",
       "0                                 By Concepción de León   \n",
       "1                                 By Apoorva Mandavilli   \n",
       "2                                     By Natasha Singer   \n",
       "3                  By Achal Prabhala and Chee Yoke Ling   \n",
       "4     By Sheera Frenkel, Maria Abi-Habib and Julian ...   \n",
       "...                                                 ...   \n",
       "4148                                football-italia.net   \n",
       "4149                                          webmd.com   \n",
       "4150                                            fda.gov   \n",
       "4152                                       upstract.com   \n",
       "4153                health.economictimes.indiatimes.com   \n",
       "\n",
       "                           source  \\\n",
       "0              The New York Times   \n",
       "1              The New York Times   \n",
       "2              The New York Times   \n",
       "3              The New York Times   \n",
       "4              The New York Times   \n",
       "...                           ...   \n",
       "4148  2021-01-08T17:27:50.000000Z   \n",
       "4149  2020-11-11T17:05:41.000000Z   \n",
       "4150  2020-12-29T19:05:38.000000Z   \n",
       "4152  2021-02-23T00:08:00.000000Z   \n",
       "4153  2020-12-11T05:34:00.000000Z   \n",
       "\n",
       "                                             time_stamp  \\\n",
       "0                              2021-02-12T22:09:48+0000   \n",
       "1                              2021-02-12T10:00:21+0000   \n",
       "2                              2021-02-07T19:37:49+0000   \n",
       "3                              2021-02-05T10:00:58+0000   \n",
       "4                              2021-02-05T16:09:45+0000   \n",
       "...                                                 ...   \n",
       "4148  https://www.football-italia.net/164525/juventu...   \n",
       "4149  https://www.webmd.com/lung/news/20201111/recor...   \n",
       "4150  https://www.fda.gov/drugs/coronavirus-covid-19...   \n",
       "4152       https://upstract.com/p/mk5g72g9?ref=rss&rd=1   \n",
       "4153  https://health.economictimes.indiatimes.com/ne...   \n",
       "\n",
       "                                                   link    query  \n",
       "0     https://www.nytimes.com/2021/02/12/us/baltimor...  moderna  \n",
       "1     https://www.nytimes.com/2021/02/12/health/covi...  moderna  \n",
       "2     https://www.nytimes.com/2021/02/07/technology/...  moderna  \n",
       "3     https://www.nytimes.com/2021/02/05/opinion/cov...  moderna  \n",
       "4     https://www.nytimes.com/2021/02/05/technology/...  moderna  \n",
       "...                                                 ...      ...  \n",
       "4148                                         ['sports']    covid  \n",
       "4149                                         ['health']    covid  \n",
       "4150                                         ['health']    covid  \n",
       "4152                       ['entertainment', 'general']    covid  \n",
       "4153                                         ['health']    covid  \n",
       "\n",
       "[2147 rows x 8 columns]"
      ]
     },
     "execution_count": 41,
     "metadata": {},
     "output_type": "execute_result"
    }
   ],
   "source": [
    "data"
   ]
  },
  {
   "cell_type": "code",
   "execution_count": 56,
   "id": "587beb13",
   "metadata": {},
   "outputs": [
    {
     "name": "stdout",
     "output_type": "stream",
     "text": [
      "0\n",
      "1\n",
      "['Three Men Are Accused in Scheme to Sell Covid-19 Vaccines Prosecutors said the men created a fake duplicate of the Moderna website to fraudulently sell doses of the vaccine, which they never had.', 'Covid Vaccines for Kids Are Coming, but Not for Many Months Pfizer and Moderna are testing their vaccines on children 12 and older and hope to have results by the summer.']\n",
      "[[0.         1.69314718 1.69314718 0.         1.         0.\n",
      "  0.         0.         0.         1.         1.69314718 1.69314718\n",
      "  1.69314718 1.69314718 0.         1.69314718 1.69314718 0.\n",
      "  0.         1.69314718 0.         0.         3.38629436 1.\n",
      "  0.         1.69314718 0.         3.38629436 0.         0.\n",
      "  0.         1.69314718 0.         1.69314718 1.69314718 3.38629436\n",
      "  0.         0.         3.         0.         1.69314718 1.69314718\n",
      "  2.         1.69314718 1.         1.69314718 1.69314718]\n",
      " [1.69314718 0.         0.         5.07944154 2.         1.69314718\n",
      "  1.69314718 1.69314718 1.69314718 1.         0.         0.\n",
      "  0.         0.         3.38629436 0.         0.         1.69314718\n",
      "  1.69314718 0.         1.69314718 1.69314718 0.         1.\n",
      "  1.69314718 0.         1.69314718 0.         1.69314718 1.69314718\n",
      "  1.69314718 0.         1.69314718 0.         0.         0.\n",
      "  1.69314718 1.69314718 1.         1.69314718 0.         0.\n",
      "  1.         0.         2.         0.         0.        ]]\n"
     ]
    }
   ],
   "source": [
    "temp = []\n",
    "\n",
    "for x in range(2):\n",
    "    temp.append(data['title'][x] + ' ' + data['abstract'][x])\n",
    "    print(x)\n",
    "    \n",
    "vectorizer = TfidfVectorizer(norm = False, smooth_idf = False)\n",
    "sentence_vectors = vectorizer.fit_transform(temp)\n",
    "print(temp)\n",
    "print(sentence_vectors.toarray())"
   ]
  },
  {
   "cell_type": "code",
   "execution_count": 61,
   "id": "17ede1a6",
   "metadata": {},
   "outputs": [
    {
     "name": "stdout",
     "output_type": "stream",
     "text": [
      "['United_States', 'Egypt']\n"
     ]
    }
   ],
   "source": [
    "url = get_ents('evan went to the US but actually ended up in Egypt! But instead, he is in Egypt!')\n",
    "keywords = [list(url)[x].rsplit('/', 1)[-1] for x in range(len(url))]\n",
    "print(keywords)"
   ]
  },
  {
   "cell_type": "code",
   "execution_count": 118,
   "id": "fb2ad8ac",
   "metadata": {},
   "outputs": [
    {
     "name": "stdout",
     "output_type": "stream",
     "text": [
      "['Coronavirus_disease_2019 Vaccine Vaccine ', 'Coronavirus_disease Vaccine Pfizer Vaccine Summer ', 'Algorithm Vaccine Health Coronavirus Vaccine ', 'Russia Vaccine ']\n",
      "[[0.         0.         0.         2.38629436 0.         0.\n",
      "  0.         0.         2.        ]\n",
      " [0.         0.         2.38629436 0.         0.         2.38629436\n",
      "  0.         2.38629436 2.        ]\n",
      " [2.38629436 2.38629436 0.         0.         2.38629436 0.\n",
      "  0.         0.         2.        ]\n",
      " [0.         0.         0.         0.         0.         0.\n",
      "  2.38629436 0.         1.        ]]\n"
     ]
    }
   ],
   "source": [
    "tempSent = []\n",
    "\n",
    "for x in range(4):\n",
    "    titleEnts = list(get_ents(data['title'][x].lower()))\n",
    "    abstractEnts = list(get_ents(data['abstract'][x].lower()))\n",
    "    totalEnts = titleEnts + abstractEnts\n",
    "    \n",
    "    keySplit = [totalEnts[x].rsplit('/', 1)[-1] for x in range(len(totalEnts))]\n",
    "    sentence = ''\n",
    "    for y in keySplit:\n",
    "        sentence += y + ' '\n",
    "    tempSent.append(sentence)\n",
    "    \n",
    "vectorizer = TfidfVectorizer(norm = False, smooth_idf = False)\n",
    "sentence_vectors = vectorizer.fit_transform(tempSent)\n",
    "print(tempSent)\n",
    "print(sentence_vectors.toarray())"
   ]
  },
  {
   "cell_type": "code",
   "execution_count": 122,
   "id": "9c85dbae",
   "metadata": {},
   "outputs": [],
   "source": [
    "def knowledge_sim(article_i, article_j):\n",
    "    ai = get_ents(article_i.lower())\n",
    "    aj = get_ents(article_j.lower())\n",
    "    \n",
    "    union = ai.union(aj)\n",
    "    intersect = ai.intersection(aj)\n",
    "    \n",
    "    jaccard_coefficient = len(intersect) / len(union)\n",
    "    \n",
    "    jaccard_distance = 1 - jaccard_coefficient\n",
    "    \n",
    "    return jaccard_distance"
   ]
  },
  {
   "cell_type": "code",
   "execution_count": 123,
   "id": "f598e0f6",
   "metadata": {},
   "outputs": [
    {
     "name": "stdout",
     "output_type": "stream",
     "text": [
      "0.6666666666666667\n"
     ]
    }
   ],
   "source": [
    "print(knowledge_sim(data['abstract'][0], data['abstract'][1]))"
   ]
  },
  {
   "cell_type": "code",
   "execution_count": null,
   "id": "cf54daf6",
   "metadata": {},
   "outputs": [],
   "source": []
  }
 ],
 "metadata": {
  "kernelspec": {
   "display_name": "Python 3",
   "language": "python",
   "name": "python3"
  },
  "language_info": {
   "codemirror_mode": {
    "name": "ipython",
    "version": 3
   },
   "file_extension": ".py",
   "mimetype": "text/x-python",
   "name": "python",
   "nbconvert_exporter": "python",
   "pygments_lexer": "ipython3",
   "version": "3.9.1"
  }
 },
 "nbformat": 4,
 "nbformat_minor": 5
}
