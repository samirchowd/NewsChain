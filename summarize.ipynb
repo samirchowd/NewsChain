{
 "cells": [
  {
   "cell_type": "code",
   "execution_count": 1,
   "id": "european-dietary",
   "metadata": {},
   "outputs": [],
   "source": [
    "# Import Statements\n",
    "import numpy as np \n",
    "import matplotlib.pyplot as plt \n",
    "from sentence_transformers import SentenceTransformer\n",
    "from sklearn.decomposition import PCA\n",
    "from sklearn.cluster import KMeans"
   ]
  },
  {
   "cell_type": "code",
   "execution_count": 2,
   "id": "fifty-stress",
   "metadata": {},
   "outputs": [],
   "source": [
    "# Set up data\n",
    "revs = np.asarray([\n",
    "    'The new Amazon Review Summary tool is so awesome! I love how it tells me exactly what I need about a product',\n",
    "    'The Amazon Review Summary tool honestly changed my life. It has been the biggest blesing I could have asked for',\n",
    "    'I don\\'t know how I\\'ve lived my life without this. The Amazon Review Summary Tool gets a 5 out of 5!',\n",
    "    'I HATE the Amazon Review Summary tool. It\\'s absolutely horrible. Do not use!',\n",
    "    'The Amazon Review Summary tool honestly makes me want to jump off a bridge. Please do NOT use!',\n",
    "    'If you use the Amazon Review Summary tool, you are honestly wasting your time. It is so so bad!',\n",
    "])"
   ]
  },
  {
   "cell_type": "code",
   "execution_count": 3,
   "id": "distributed-tension",
   "metadata": {},
   "outputs": [],
   "source": [
    "# Encode articles "
   ]
  },
  {
   "cell_type": "code",
   "execution_count": 4,
   "id": "quick-classics",
   "metadata": {},
   "outputs": [],
   "source": [
    "# Loading model \n",
    "models = ['stsb-bert-base', 'stsb-roberta-base', 'stsb-bert-large', 'stsb-roberta-large']\n",
    "model = SentenceTransformer(models[1])"
   ]
  },
  {
   "cell_type": "code",
   "execution_count": 5,
   "id": "bearing-symposium",
   "metadata": {},
   "outputs": [],
   "source": [
    "# Retrieve vectors \n",
    "vecs = model.encode(revs)"
   ]
  },
  {
   "cell_type": "code",
   "execution_count": 6,
   "id": "short-tackle",
   "metadata": {},
   "outputs": [
    {
     "name": "stdout",
     "output_type": "stream",
     "text": [
      "Percent variance explained: 1.00\n"
     ]
    }
   ],
   "source": [
    "# Running PCA on data \n",
    "pca = PCA(n_components = 5)\n",
    "components = pca.fit_transform(vecs)\n",
    "print('Percent variance explained: {:.2f}'.format(sum(pca.explained_variance_ratio_)))"
   ]
  },
  {
   "cell_type": "code",
   "execution_count": 7,
   "id": "rolled-jacksonville",
   "metadata": {},
   "outputs": [
    {
     "data": {
      "text/plain": [
       "<matplotlib.collections.PathCollection at 0x29d8e9fd7c0>"
      ]
     },
     "execution_count": 7,
     "metadata": {},
     "output_type": "execute_result"
    },
    {
     "data": {
      "image/png": "[encoded data removed]",
      "text/plain": [
       "<Figure size 432x288 with 1 Axes>"
      ]
     },
     "metadata": {
      "needs_background": "light"
     },
     "output_type": "display_data"
    }
   ],
   "source": [
    "# Visualizing PCA\n",
    "plt.scatter(components[:,0], components[:,1])"
   ]
  },
  {
   "cell_type": "code",
   "execution_count": 8,
   "id": "completed-facing",
   "metadata": {},
   "outputs": [],
   "source": [
    "# Clustering \n",
    "K = 2\n",
    "clusters = KMeans(n_clusters=K, random_state=0).fit(components)"
   ]
  },
  {
   "cell_type": "code",
   "execution_count": 9,
   "id": "motivated-galaxy",
   "metadata": {},
   "outputs": [
    {
     "data": {
      "image/png": "[encoded data removed]",
      "text/plain": [
       "<Figure size 432x288 with 1 Axes>"
      ]
     },
     "metadata": {
      "needs_background": "light"
     },
     "output_type": "display_data"
    }
   ],
   "source": [
    "# Visualizing Clusters\n",
    "for i in range(K):\n",
    "    labels = clusters.labels_ == i\n",
    "    plt.scatter(components[labels,0], components[labels,1])"
   ]
  },
  {
   "cell_type": "code",
   "execution_count": 10,
   "id": "nearby-madrid",
   "metadata": {
    "scrolled": true
   },
   "outputs": [
    {
     "name": "stdout",
     "output_type": "stream",
     "text": [
      "Cluster #: 0\n",
      "0 I HATE the Amazon Review Summary tool. It's absolutely horrible. Do not use!\n",
      "1 The Amazon Review Summary tool honestly makes me want to jump off a bridge. Please do NOT use!\n",
      "2 If you use the Amazon Review Summary tool, you are honestly wasting your time. It is so so bad!\n",
      "Cluster #: 1\n",
      "0 The new Amazon Review Summary tool is so awesome! I love how it tells me exactly what I need about a product\n",
      "1 The Amazon Review Summary tool honestly changed my life. It has been the biggest blesing I could have asked for\n",
      "2 I don't know how I've lived my life without this. The Amazon Review Summary Tool gets a 5 out of 5!\n"
     ]
    }
   ],
   "source": [
    "# Printing out different clusters\n",
    "for i in range(K):\n",
    "    labels = clusters.labels_ == i\n",
    "    print('Cluster #:', i)\n",
    "    for j, review in enumerate(revs[labels]):\n",
    "        print(j, review)"
   ]
  },
  {
   "cell_type": "code",
   "execution_count": 11,
   "id": "completed-nothing",
   "metadata": {},
   "outputs": [
    {
     "name": "stdout",
     "output_type": "stream",
     "text": [
      "Cluster Rep # 0 If you use the Amazon Review Summary tool, you are honestly wasting your time. It is so so bad!\n",
      "Cluster Rep # 1 I don't know how I've lived my life without this. The Amazon Review Summary Tool gets a 5 out of 5!\n"
     ]
    }
   ],
   "source": [
    "# Finding review closest to each center \n",
    "centers = clusters.cluster_centers_\n",
    "closest = [] \n",
    "for i in range(K):\n",
    "    labels = clusters.labels_ == i\n",
    "    dist = float('inf')\n",
    "    closest_review = None \n",
    "    for review_vec, review in zip(components[labels],revs[labels]):\n",
    "        dist_to_center = np.linalg.norm(review_vec - centers[i])\n",
    "        if dist_to_center < dist:\n",
    "            closest_review = review\n",
    "    closest.append(review)\n",
    "for i, r in enumerate(closest):\n",
    "    print('Cluster Rep #', i, r)"
   ]
  },
  {
   "cell_type": "code",
   "execution_count": 12,
   "id": "efficient-dividend",
   "metadata": {},
   "outputs": [
    {
     "data": {
      "text/plain": [
       "['If you use the Amazon Review Summary tool, you are honestly wasting your time. It is so so bad!',\n",
       " \"I don't know how I've lived my life without this. The Amazon Review Summary Tool gets a 5 out of 5!\"]"
      ]
     },
     "execution_count": 12,
     "metadata": {},
     "output_type": "execute_result"
    }
   ],
   "source": [
    "# Summarize articles\n",
    "\n",
    "# TODO: Summarize the articles O:"
   ]
  }
 ],
 "metadata": {
  "kernelspec": {
   "display_name": "Python 3",
   "language": "python",
   "name": "python3"
  },
  "language_info": {
   "codemirror_mode": {
    "name": "ipython",
    "version": 3
   },
   "file_extension": ".py",
   "mimetype": "text/x-python",
   "name": "python",
   "nbconvert_exporter": "python",
   "pygments_lexer": "ipython3",
   "version": "3.9.2"
  }
 },
 "nbformat": 4,
 "nbformat_minor": 5
}
