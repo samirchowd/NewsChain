{
 "cells": [
  {
   "cell_type": "code",
   "execution_count": 1,
   "id": "recreational-mainland",
   "metadata": {},
   "outputs": [
    {
     "data": {
      "application/vnd.jupyter.widget-view+json": {
       "model_id": "cabc90a61bda4076985a3f0d83a01537",
       "version_major": 2,
       "version_minor": 0
      },
      "text/plain": [
       "  0%|          | 0.00/405M [00:00<?, ?B/s]"
      ]
     },
     "metadata": {},
     "output_type": "display_data"
    }
   ],
   "source": [
    "from sentence_transformers import SentenceTransformer\n",
    "sbert_model = SentenceTransformer('bert-base-nli-mean-tokens')"
   ]
  },
  {
   "cell_type": "code",
   "execution_count": 27,
   "id": "modified-secretariat",
   "metadata": {},
   "outputs": [
    {
     "data": {
      "text/plain": [
       "array([[0.72299457]], dtype=float32)"
      ]
     },
     "execution_count": 27,
     "metadata": {},
     "output_type": "execute_result"
    }
   ],
   "source": [
    "v = sbert_model.encode(['Donald trump goes to the mall', 'Donald trump goes the white house', 'Samir went to the mall'])\n",
    "from sklearn.metrics.pairwise import cosine_similarity\n",
    "cosine_similarity(v[0].reshape(1,-1),v[2].reshape(1,-1))"
   ]
  },
  {
   "cell_type": "code",
   "execution_count": 32,
   "id": "instrumental-melissa",
   "metadata": {},
   "outputs": [
    {
     "name": "stdout",
     "output_type": "stream",
     "text": [
      "United States 0 13 GPE\n"
     ]
    }
   ],
   "source": [
    "import spacy\n",
    "\n",
    "nlp = spacy.load(\"en_core_web_sm\")\n",
    "doc = nlp(\"United States has a new plan\")\n",
    "for ent in doc.ents:\n",
    "    print(ent.text, ent.start_char, ent.end_char, ent.label_)"
   ]
  },
  {
   "cell_type": "code",
   "execution_count": 34,
   "id": "acting-austin",
   "metadata": {},
   "outputs": [
    {
     "name": "stdout",
     "output_type": "stream",
     "text": [
      "U.S. 0 4 GPE\n"
     ]
    }
   ],
   "source": [
    "doc = nlp(\"U.S. has a new plan\")\n",
    "for ent in doc.ents:\n",
    "    print(ent.text, ent.start_char, ent.end_char, ent.label_)"
   ]
  },
  {
   "cell_type": "code",
   "execution_count": 45,
   "id": "rolled-midwest",
   "metadata": {},
   "outputs": [
    {
     "data": {
      "text/html": [
       "<!DOCTYPE HTML PUBLIC \"-//W3C//DTD HTML 4.01 Transitional//EN\" \"http://www.w3.org/TR/html4/loose.dtd\">\n",
       "<html>\n",
       "<head>\n",
       "<title>DBpedia Spotlight annotation</title>\n",
       "<meta http-equiv=\"Content-type\" content=\"text/html;charset=UTF-8\">\n",
       "</head>\n",
       "<body>\n",
       "<div>\n",
       "My name is Sundar. I am currently doing Master's in <a href=\"http://dbpedia.org/resource/Artificial_intelligence\" title=\"http://dbpedia.org/resource/Artificial_intelligence\" target=\"_blank\">Artificial Intelligence</a> at <a href=\"http://dbpedia.org/resource/National_University_of_Singapore\" title=\"http://dbpedia.org/resource/National_University_of_Singapore\" target=\"_blank\">NUS</a>. I <a href=\"http://dbpedia.org/resource/Love\" title=\"http://dbpedia.org/resource/Love\" target=\"_blank\">love</a> <a href=\"http://dbpedia.org/resource/Natural_language_processing\" title=\"http://dbpedia.org/resource/Natural_language_processing\" target=\"_blank\">Natural Language Processing</a>.\n",
       "</div>\n",
       "</body>\n",
       "</html>"
      ],
      "text/plain": [
       "<IPython.core.display.HTML object>"
      ]
     },
     "metadata": {},
     "output_type": "display_data"
    }
   ],
   "source": [
    "import requests\n",
    "from IPython.core.display import display, HTML# An API Error Exception\n",
    "class APIError(Exception):\n",
    "    def __init__(self, status):\n",
    "        self.status = status\n",
    "        def __str__(self):\n",
    "            return \"APIError: status={}\".format(self.status)\n",
    "      \n",
    "# Base URL for Spotlight API\n",
    "base_url = \"http://api.dbpedia-spotlight.org/en/annotate\"# Parameters \n",
    "# 'text' - text to be annotated \n",
    "# 'confidence' -   confidence score for linking\n",
    "params = {\"text\": \"My name is Sundar. I am currently doing Master's in Artificial Intelligence at NUS. I love Natural Language Processing.\", \"confidence\": 0.35}# Response content type\n",
    "headers = {'accept': 'text/html'}# GET Request\n",
    "res = requests.get(base_url, params=params, headers=headers)\n",
    "if res.status_code != 200:\n",
    "    # Something went wrong\n",
    "    raise APIError(res.status_code)# Display the result as HTML in Jupyter Notebook\n",
    "display(HTML(res.text))"
   ]
  }
 ],
 "metadata": {
  "kernelspec": {
   "display_name": "Python 3",
   "language": "python",
   "name": "python3"
  },
  "language_info": {
   "codemirror_mode": {
    "name": "ipython",
    "version": 3
   },
   "file_extension": ".py",
   "mimetype": "text/x-python",
   "name": "python",
   "nbconvert_exporter": "python",
   "pygments_lexer": "ipython3",
   "version": "3.9.1"
  }
 },
 "nbformat": 4,
 "nbformat_minor": 5
}
